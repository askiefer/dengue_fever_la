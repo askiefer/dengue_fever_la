{
 "cells": [
  {
   "cell_type": "markdown",
   "metadata": {},
   "source": [
    "\n",
    "## Linear Regression Model for San Juan, PR"
   ]
  },
  {
   "cell_type": "markdown",
   "metadata": {},
   "source": [
    "### Data set up"
   ]
  },
  {
   "cell_type": "code",
   "execution_count": 42,
   "metadata": {
    "collapsed": true
   },
   "outputs": [],
   "source": [
    "import pandas as pd\n",
    "import numpy as np"
   ]
  },
  {
   "cell_type": "code",
   "execution_count": 43,
   "metadata": {
    "collapsed": true
   },
   "outputs": [],
   "source": [
    "import matplotlib.pyplot as plt\n",
    "import seaborn as sns"
   ]
  },
  {
   "cell_type": "code",
   "execution_count": 44,
   "metadata": {
    "collapsed": true
   },
   "outputs": [],
   "source": [
    "%matplotlib inline"
   ]
  },
  {
   "cell_type": "code",
   "execution_count": 45,
   "metadata": {
    "collapsed": true
   },
   "outputs": [],
   "source": [
    "sj = pd.read_csv('../data/sj.csv', index_col=0)"
   ]
  },
  {
   "cell_type": "code",
   "execution_count": 46,
   "metadata": {},
   "outputs": [
    {
     "name": "stdout",
     "output_type": "stream",
     "text": [
      "<class 'pandas.core.frame.DataFrame'>\n",
      "Int64Index: 936 entries, 0 to 935\n",
      "Data columns (total 24 columns):\n",
      "city                                     936 non-null object\n",
      "year                                     936 non-null int64\n",
      "weekofyear                               936 non-null int64\n",
      "week_start_date                          936 non-null object\n",
      "ndvi_ne                                  745 non-null float64\n",
      "ndvi_nw                                  887 non-null float64\n",
      "ndvi_se                                  917 non-null float64\n",
      "ndvi_sw                                  917 non-null float64\n",
      "precipitation_amt_mm                     927 non-null float64\n",
      "reanalysis_air_temp_k                    930 non-null float64\n",
      "reanalysis_avg_temp_k                    930 non-null float64\n",
      "reanalysis_dew_point_temp_k              930 non-null float64\n",
      "reanalysis_max_air_temp_k                930 non-null float64\n",
      "reanalysis_min_air_temp_k                930 non-null float64\n",
      "reanalysis_precip_amt_kg_per_m2          930 non-null float64\n",
      "reanalysis_relative_humidity_percent     930 non-null float64\n",
      "reanalysis_specific_humidity_g_per_kg    930 non-null float64\n",
      "reanalysis_tdtr_k                        930 non-null float64\n",
      "station_precip_mm                        930 non-null float64\n",
      "total_cases                              936 non-null int64\n",
      "station_min_temp_k                       930 non-null float64\n",
      "station_avg_temp_k                       930 non-null float64\n",
      "station_max_temp_k                       930 non-null float64\n",
      "station_diur_temp_rng_k                  930 non-null float64\n",
      "dtypes: float64(19), int64(3), object(2)\n",
      "memory usage: 182.8+ KB\n"
     ]
    }
   ],
   "source": [
    "sj.info()"
   ]
  },
  {
   "cell_type": "code",
   "execution_count": 47,
   "metadata": {},
   "outputs": [
    {
     "data": {
      "text/html": [
       "<div>\n",
       "<style>\n",
       "    .dataframe thead tr:only-child th {\n",
       "        text-align: right;\n",
       "    }\n",
       "\n",
       "    .dataframe thead th {\n",
       "        text-align: left;\n",
       "    }\n",
       "\n",
       "    .dataframe tbody tr th {\n",
       "        vertical-align: top;\n",
       "    }\n",
       "</style>\n",
       "<table border=\"1\" class=\"dataframe\">\n",
       "  <thead>\n",
       "    <tr style=\"text-align: right;\">\n",
       "      <th></th>\n",
       "      <th>city</th>\n",
       "      <th>year</th>\n",
       "      <th>weekofyear</th>\n",
       "      <th>week_start_date</th>\n",
       "      <th>ndvi_ne</th>\n",
       "      <th>ndvi_nw</th>\n",
       "      <th>ndvi_se</th>\n",
       "      <th>ndvi_sw</th>\n",
       "      <th>precipitation_amt_mm</th>\n",
       "      <th>reanalysis_air_temp_k</th>\n",
       "      <th>...</th>\n",
       "      <th>reanalysis_precip_amt_kg_per_m2</th>\n",
       "      <th>reanalysis_relative_humidity_percent</th>\n",
       "      <th>reanalysis_specific_humidity_g_per_kg</th>\n",
       "      <th>reanalysis_tdtr_k</th>\n",
       "      <th>station_precip_mm</th>\n",
       "      <th>total_cases</th>\n",
       "      <th>station_min_temp_k</th>\n",
       "      <th>station_avg_temp_k</th>\n",
       "      <th>station_max_temp_k</th>\n",
       "      <th>station_diur_temp_rng_k</th>\n",
       "    </tr>\n",
       "  </thead>\n",
       "  <tbody>\n",
       "    <tr>\n",
       "      <th>0</th>\n",
       "      <td>sj</td>\n",
       "      <td>1990</td>\n",
       "      <td>18</td>\n",
       "      <td>1990-04-30</td>\n",
       "      <td>0.122600</td>\n",
       "      <td>0.103725</td>\n",
       "      <td>0.198483</td>\n",
       "      <td>0.177617</td>\n",
       "      <td>12.42</td>\n",
       "      <td>297.572857</td>\n",
       "      <td>...</td>\n",
       "      <td>32.00</td>\n",
       "      <td>73.365714</td>\n",
       "      <td>14.012857</td>\n",
       "      <td>2.628571</td>\n",
       "      <td>16.0</td>\n",
       "      <td>4</td>\n",
       "      <td>293.15</td>\n",
       "      <td>298.592857</td>\n",
       "      <td>302.55</td>\n",
       "      <td>280.050000</td>\n",
       "    </tr>\n",
       "    <tr>\n",
       "      <th>1</th>\n",
       "      <td>sj</td>\n",
       "      <td>1990</td>\n",
       "      <td>19</td>\n",
       "      <td>1990-05-07</td>\n",
       "      <td>0.169900</td>\n",
       "      <td>0.142175</td>\n",
       "      <td>0.162357</td>\n",
       "      <td>0.155486</td>\n",
       "      <td>22.82</td>\n",
       "      <td>298.211429</td>\n",
       "      <td>...</td>\n",
       "      <td>17.94</td>\n",
       "      <td>77.368571</td>\n",
       "      <td>15.372857</td>\n",
       "      <td>2.371429</td>\n",
       "      <td>8.6</td>\n",
       "      <td>5</td>\n",
       "      <td>295.35</td>\n",
       "      <td>299.864286</td>\n",
       "      <td>304.85</td>\n",
       "      <td>279.521429</td>\n",
       "    </tr>\n",
       "    <tr>\n",
       "      <th>2</th>\n",
       "      <td>sj</td>\n",
       "      <td>1990</td>\n",
       "      <td>20</td>\n",
       "      <td>1990-05-14</td>\n",
       "      <td>0.032250</td>\n",
       "      <td>0.172967</td>\n",
       "      <td>0.157200</td>\n",
       "      <td>0.170843</td>\n",
       "      <td>34.54</td>\n",
       "      <td>298.781429</td>\n",
       "      <td>...</td>\n",
       "      <td>26.10</td>\n",
       "      <td>82.052857</td>\n",
       "      <td>16.848571</td>\n",
       "      <td>2.300000</td>\n",
       "      <td>41.4</td>\n",
       "      <td>4</td>\n",
       "      <td>295.95</td>\n",
       "      <td>299.864286</td>\n",
       "      <td>305.35</td>\n",
       "      <td>279.635714</td>\n",
       "    </tr>\n",
       "    <tr>\n",
       "      <th>3</th>\n",
       "      <td>sj</td>\n",
       "      <td>1990</td>\n",
       "      <td>21</td>\n",
       "      <td>1990-05-21</td>\n",
       "      <td>0.128633</td>\n",
       "      <td>0.245067</td>\n",
       "      <td>0.227557</td>\n",
       "      <td>0.235886</td>\n",
       "      <td>15.36</td>\n",
       "      <td>298.987143</td>\n",
       "      <td>...</td>\n",
       "      <td>13.90</td>\n",
       "      <td>80.337143</td>\n",
       "      <td>16.672857</td>\n",
       "      <td>2.428571</td>\n",
       "      <td>4.0</td>\n",
       "      <td>3</td>\n",
       "      <td>296.45</td>\n",
       "      <td>300.621429</td>\n",
       "      <td>306.45</td>\n",
       "      <td>279.921429</td>\n",
       "    </tr>\n",
       "    <tr>\n",
       "      <th>4</th>\n",
       "      <td>sj</td>\n",
       "      <td>1990</td>\n",
       "      <td>22</td>\n",
       "      <td>1990-05-28</td>\n",
       "      <td>0.196200</td>\n",
       "      <td>0.262200</td>\n",
       "      <td>0.251200</td>\n",
       "      <td>0.247340</td>\n",
       "      <td>7.52</td>\n",
       "      <td>299.518571</td>\n",
       "      <td>...</td>\n",
       "      <td>12.20</td>\n",
       "      <td>80.460000</td>\n",
       "      <td>17.210000</td>\n",
       "      <td>3.014286</td>\n",
       "      <td>5.8</td>\n",
       "      <td>6</td>\n",
       "      <td>297.05</td>\n",
       "      <td>302.092857</td>\n",
       "      <td>308.15</td>\n",
       "      <td>282.521429</td>\n",
       "    </tr>\n",
       "  </tbody>\n",
       "</table>\n",
       "<p>5 rows × 24 columns</p>\n",
       "</div>"
      ],
      "text/plain": [
       "  city  year  weekofyear week_start_date   ndvi_ne   ndvi_nw   ndvi_se  \\\n",
       "0   sj  1990          18      1990-04-30  0.122600  0.103725  0.198483   \n",
       "1   sj  1990          19      1990-05-07  0.169900  0.142175  0.162357   \n",
       "2   sj  1990          20      1990-05-14  0.032250  0.172967  0.157200   \n",
       "3   sj  1990          21      1990-05-21  0.128633  0.245067  0.227557   \n",
       "4   sj  1990          22      1990-05-28  0.196200  0.262200  0.251200   \n",
       "\n",
       "    ndvi_sw  precipitation_amt_mm  reanalysis_air_temp_k  \\\n",
       "0  0.177617                 12.42             297.572857   \n",
       "1  0.155486                 22.82             298.211429   \n",
       "2  0.170843                 34.54             298.781429   \n",
       "3  0.235886                 15.36             298.987143   \n",
       "4  0.247340                  7.52             299.518571   \n",
       "\n",
       "            ...             reanalysis_precip_amt_kg_per_m2  \\\n",
       "0           ...                                       32.00   \n",
       "1           ...                                       17.94   \n",
       "2           ...                                       26.10   \n",
       "3           ...                                       13.90   \n",
       "4           ...                                       12.20   \n",
       "\n",
       "   reanalysis_relative_humidity_percent  \\\n",
       "0                             73.365714   \n",
       "1                             77.368571   \n",
       "2                             82.052857   \n",
       "3                             80.337143   \n",
       "4                             80.460000   \n",
       "\n",
       "   reanalysis_specific_humidity_g_per_kg  reanalysis_tdtr_k  \\\n",
       "0                              14.012857           2.628571   \n",
       "1                              15.372857           2.371429   \n",
       "2                              16.848571           2.300000   \n",
       "3                              16.672857           2.428571   \n",
       "4                              17.210000           3.014286   \n",
       "\n",
       "   station_precip_mm  total_cases  station_min_temp_k  station_avg_temp_k  \\\n",
       "0               16.0            4              293.15          298.592857   \n",
       "1                8.6            5              295.35          299.864286   \n",
       "2               41.4            4              295.95          299.864286   \n",
       "3                4.0            3              296.45          300.621429   \n",
       "4                5.8            6              297.05          302.092857   \n",
       "\n",
       "   station_max_temp_k  station_diur_temp_rng_k  \n",
       "0              302.55               280.050000  \n",
       "1              304.85               279.521429  \n",
       "2              305.35               279.635714  \n",
       "3              306.45               279.921429  \n",
       "4              308.15               282.521429  \n",
       "\n",
       "[5 rows x 24 columns]"
      ]
     },
     "execution_count": 47,
     "metadata": {},
     "output_type": "execute_result"
    }
   ],
   "source": [
    "sj.head()"
   ]
  },
  {
   "cell_type": "code",
   "execution_count": 48,
   "metadata": {},
   "outputs": [
    {
     "data": {
      "text/plain": [
       "Index(['city', 'year', 'weekofyear', 'week_start_date', 'ndvi_ne', 'ndvi_nw',\n",
       "       'ndvi_se', 'ndvi_sw', 'precipitation_amt_mm', 'reanalysis_air_temp_k',\n",
       "       'reanalysis_avg_temp_k', 'reanalysis_dew_point_temp_k',\n",
       "       'reanalysis_max_air_temp_k', 'reanalysis_min_air_temp_k',\n",
       "       'reanalysis_precip_amt_kg_per_m2',\n",
       "       'reanalysis_relative_humidity_percent',\n",
       "       'reanalysis_specific_humidity_g_per_kg', 'reanalysis_tdtr_k',\n",
       "       'station_precip_mm', 'total_cases', 'station_min_temp_k',\n",
       "       'station_avg_temp_k', 'station_max_temp_k', 'station_diur_temp_rng_k'],\n",
       "      dtype='object')"
      ]
     },
     "execution_count": 48,
     "metadata": {},
     "output_type": "execute_result"
    }
   ],
   "source": [
    "sj.columns"
   ]
  },
  {
   "cell_type": "markdown",
   "metadata": {},
   "source": [
    "Look at the distribution of the total dengue cases from 1990-2010"
   ]
  },
  {
   "cell_type": "code",
   "execution_count": 49,
   "metadata": {},
   "outputs": [
    {
     "data": {
      "text/plain": [
       "<matplotlib.axes._subplots.AxesSubplot at 0x116cb5f60>"
      ]
     },
     "execution_count": 49,
     "metadata": {},
     "output_type": "execute_result"
    },
    {
     "data": {
      "image/png": "[encoded data removed]",
      "text/plain": [
       "<matplotlib.figure.Figure at 0x116c97c18>"
      ]
     },
     "metadata": {},
     "output_type": "display_data"
    }
   ],
   "source": [
    "sns.distplot(sj['total_cases'])"
   ]
  },
  {
   "cell_type": "markdown",
   "metadata": {},
   "source": [
    "## Linear Regression"
   ]
  },
  {
   "cell_type": "markdown",
   "metadata": {},
   "source": [
    "### Sum up the number of values missing in each column"
   ]
  },
  {
   "cell_type": "code",
   "execution_count": 50,
   "metadata": {},
   "outputs": [
    {
     "data": {
      "text/plain": [
       "city                                       0\n",
       "year                                       0\n",
       "weekofyear                                 0\n",
       "week_start_date                            0\n",
       "ndvi_ne                                  191\n",
       "ndvi_nw                                   49\n",
       "ndvi_se                                   19\n",
       "ndvi_sw                                   19\n",
       "precipitation_amt_mm                       9\n",
       "reanalysis_air_temp_k                      6\n",
       "reanalysis_avg_temp_k                      6\n",
       "reanalysis_dew_point_temp_k                6\n",
       "reanalysis_max_air_temp_k                  6\n",
       "reanalysis_min_air_temp_k                  6\n",
       "reanalysis_precip_amt_kg_per_m2            6\n",
       "reanalysis_relative_humidity_percent       6\n",
       "reanalysis_specific_humidity_g_per_kg      6\n",
       "reanalysis_tdtr_k                          6\n",
       "station_precip_mm                          6\n",
       "total_cases                                0\n",
       "station_min_temp_k                         6\n",
       "station_avg_temp_k                         6\n",
       "station_max_temp_k                         6\n",
       "station_diur_temp_rng_k                    6\n",
       "dtype: int64"
      ]
     },
     "execution_count": 50,
     "metadata": {},
     "output_type": "execute_result"
    }
   ],
   "source": [
    "sj.isnull().sum()"
   ]
  },
  {
   "cell_type": "code",
   "execution_count": 51,
   "metadata": {},
   "outputs": [
    {
     "data": {
      "text/plain": [
       "209"
      ]
     },
     "execution_count": 51,
     "metadata": {},
     "output_type": "execute_result"
    }
   ],
   "source": [
    "sum([True for idx,row in sj.iterrows() if any(row.isnull())])"
   ]
  },
  {
   "cell_type": "markdown",
   "metadata": {},
   "source": [
    "#### Because most of the values missing are ``ndvi`` data, I will be dropping these columns for my first linear model for San Juan"
   ]
  },
  {
   "cell_type": "code",
   "execution_count": 52,
   "metadata": {
    "collapsed": true
   },
   "outputs": [],
   "source": [
    "sj.drop(sj.columns[[4, 5, 6, 7]], axis=1, inplace=True)"
   ]
  },
  {
   "cell_type": "code",
   "execution_count": 53,
   "metadata": {},
   "outputs": [
    {
     "data": {
      "text/plain": [
       "city                                     0\n",
       "year                                     0\n",
       "weekofyear                               0\n",
       "week_start_date                          0\n",
       "precipitation_amt_mm                     9\n",
       "reanalysis_air_temp_k                    6\n",
       "reanalysis_avg_temp_k                    6\n",
       "reanalysis_dew_point_temp_k              6\n",
       "reanalysis_max_air_temp_k                6\n",
       "reanalysis_min_air_temp_k                6\n",
       "reanalysis_precip_amt_kg_per_m2          6\n",
       "reanalysis_relative_humidity_percent     6\n",
       "reanalysis_specific_humidity_g_per_kg    6\n",
       "reanalysis_tdtr_k                        6\n",
       "station_precip_mm                        6\n",
       "total_cases                              0\n",
       "station_min_temp_k                       6\n",
       "station_avg_temp_k                       6\n",
       "station_max_temp_k                       6\n",
       "station_diur_temp_rng_k                  6\n",
       "dtype: int64"
      ]
     },
     "execution_count": 53,
     "metadata": {},
     "output_type": "execute_result"
    }
   ],
   "source": [
    "sj.isnull().sum()"
   ]
  },
  {
   "cell_type": "code",
   "execution_count": 54,
   "metadata": {
    "scrolled": true
   },
   "outputs": [
    {
     "data": {
      "text/plain": [
       "9"
      ]
     },
     "execution_count": 54,
     "metadata": {},
     "output_type": "execute_result"
    }
   ],
   "source": [
    "sum([True for idx,row in sj.iterrows() if any(row.isnull())])"
   ]
  },
  {
   "cell_type": "markdown",
   "metadata": {},
   "source": [
    "#### Now we only have 9 rows with missing values - much better than the 209 rows before!"
   ]
  },
  {
   "cell_type": "markdown",
   "metadata": {},
   "source": [
    "I'll be deleting the ``city``, ``week_start_date``, and ``year`` from the dataframe"
   ]
  },
  {
   "cell_type": "code",
   "execution_count": 55,
   "metadata": {
    "collapsed": true
   },
   "outputs": [],
   "source": [
    "sj.drop(sj.columns[[0, 1, 3]], axis=1, inplace=True)"
   ]
  },
  {
   "cell_type": "code",
   "execution_count": 56,
   "metadata": {},
   "outputs": [
    {
     "data": {
      "text/plain": [
       "Index(['weekofyear', 'precipitation_amt_mm', 'reanalysis_air_temp_k',\n",
       "       'reanalysis_avg_temp_k', 'reanalysis_dew_point_temp_k',\n",
       "       'reanalysis_max_air_temp_k', 'reanalysis_min_air_temp_k',\n",
       "       'reanalysis_precip_amt_kg_per_m2',\n",
       "       'reanalysis_relative_humidity_percent',\n",
       "       'reanalysis_specific_humidity_g_per_kg', 'reanalysis_tdtr_k',\n",
       "       'station_precip_mm', 'total_cases', 'station_min_temp_k',\n",
       "       'station_avg_temp_k', 'station_max_temp_k', 'station_diur_temp_rng_k'],\n",
       "      dtype='object')"
      ]
     },
     "execution_count": 56,
     "metadata": {},
     "output_type": "execute_result"
    }
   ],
   "source": [
    "sj.columns"
   ]
  },
  {
   "cell_type": "code",
   "execution_count": 57,
   "metadata": {
    "scrolled": true
   },
   "outputs": [
    {
     "data": {
      "text/html": [
       "<div>\n",
       "<style>\n",
       "    .dataframe thead tr:only-child th {\n",
       "        text-align: right;\n",
       "    }\n",
       "\n",
       "    .dataframe thead th {\n",
       "        text-align: left;\n",
       "    }\n",
       "\n",
       "    .dataframe tbody tr th {\n",
       "        vertical-align: top;\n",
       "    }\n",
       "</style>\n",
       "<table border=\"1\" class=\"dataframe\">\n",
       "  <thead>\n",
       "    <tr style=\"text-align: right;\">\n",
       "      <th></th>\n",
       "      <th>weekofyear</th>\n",
       "      <th>precipitation_amt_mm</th>\n",
       "      <th>reanalysis_air_temp_k</th>\n",
       "      <th>reanalysis_avg_temp_k</th>\n",
       "      <th>reanalysis_dew_point_temp_k</th>\n",
       "      <th>reanalysis_max_air_temp_k</th>\n",
       "      <th>reanalysis_min_air_temp_k</th>\n",
       "      <th>reanalysis_precip_amt_kg_per_m2</th>\n",
       "      <th>reanalysis_relative_humidity_percent</th>\n",
       "      <th>reanalysis_specific_humidity_g_per_kg</th>\n",
       "      <th>reanalysis_tdtr_k</th>\n",
       "      <th>station_precip_mm</th>\n",
       "      <th>total_cases</th>\n",
       "      <th>station_min_temp_k</th>\n",
       "      <th>station_avg_temp_k</th>\n",
       "      <th>station_max_temp_k</th>\n",
       "      <th>station_diur_temp_rng_k</th>\n",
       "    </tr>\n",
       "  </thead>\n",
       "  <tbody>\n",
       "    <tr>\n",
       "      <th>weekofyear</th>\n",
       "      <td>1.000000</td>\n",
       "      <td>0.231961</td>\n",
       "      <td>0.575381</td>\n",
       "      <td>0.561001</td>\n",
       "      <td>0.578072</td>\n",
       "      <td>0.519083</td>\n",
       "      <td>0.574494</td>\n",
       "      <td>0.253975</td>\n",
       "      <td>0.306771</td>\n",
       "      <td>0.585224</td>\n",
       "      <td>-0.099084</td>\n",
       "      <td>0.213336</td>\n",
       "      <td>0.287134</td>\n",
       "      <td>0.520129</td>\n",
       "      <td>0.485038</td>\n",
       "      <td>0.325748</td>\n",
       "      <td>-0.137093</td>\n",
       "    </tr>\n",
       "    <tr>\n",
       "      <th>precipitation_amt_mm</th>\n",
       "      <td>0.231961</td>\n",
       "      <td>1.000000</td>\n",
       "      <td>0.233912</td>\n",
       "      <td>0.222311</td>\n",
       "      <td>0.402744</td>\n",
       "      <td>0.256677</td>\n",
       "      <td>0.246372</td>\n",
       "      <td>0.508953</td>\n",
       "      <td>0.501149</td>\n",
       "      <td>0.410019</td>\n",
       "      <td>-0.093928</td>\n",
       "      <td>0.565961</td>\n",
       "      <td>0.060211</td>\n",
       "      <td>0.224667</td>\n",
       "      <td>0.196218</td>\n",
       "      <td>0.193713</td>\n",
       "      <td>-0.158479</td>\n",
       "    </tr>\n",
       "    <tr>\n",
       "      <th>reanalysis_air_temp_k</th>\n",
       "      <td>0.575381</td>\n",
       "      <td>0.233912</td>\n",
       "      <td>1.000000</td>\n",
       "      <td>0.997495</td>\n",
       "      <td>0.903287</td>\n",
       "      <td>0.935089</td>\n",
       "      <td>0.942254</td>\n",
       "      <td>0.079883</td>\n",
       "      <td>0.299139</td>\n",
       "      <td>0.904819</td>\n",
       "      <td>0.175060</td>\n",
       "      <td>0.113726</td>\n",
       "      <td>0.181917</td>\n",
       "      <td>0.832863</td>\n",
       "      <td>0.880931</td>\n",
       "      <td>0.697949</td>\n",
       "      <td>0.039391</td>\n",
       "    </tr>\n",
       "    <tr>\n",
       "      <th>reanalysis_avg_temp_k</th>\n",
       "      <td>0.561001</td>\n",
       "      <td>0.222311</td>\n",
       "      <td>0.997495</td>\n",
       "      <td>1.000000</td>\n",
       "      <td>0.895123</td>\n",
       "      <td>0.938952</td>\n",
       "      <td>0.939120</td>\n",
       "      <td>0.062023</td>\n",
       "      <td>0.285179</td>\n",
       "      <td>0.896178</td>\n",
       "      <td>0.198187</td>\n",
       "      <td>0.097849</td>\n",
       "      <td>0.175267</td>\n",
       "      <td>0.827112</td>\n",
       "      <td>0.879129</td>\n",
       "      <td>0.703316</td>\n",
       "      <td>0.053967</td>\n",
       "    </tr>\n",
       "    <tr>\n",
       "      <th>reanalysis_dew_point_temp_k</th>\n",
       "      <td>0.578072</td>\n",
       "      <td>0.402744</td>\n",
       "      <td>0.903287</td>\n",
       "      <td>0.895123</td>\n",
       "      <td>1.000000</td>\n",
       "      <td>0.847236</td>\n",
       "      <td>0.898814</td>\n",
       "      <td>0.328449</td>\n",
       "      <td>0.679369</td>\n",
       "      <td>0.998532</td>\n",
       "      <td>-0.035965</td>\n",
       "      <td>0.285280</td>\n",
       "      <td>0.203774</td>\n",
       "      <td>0.850157</td>\n",
       "      <td>0.868930</td>\n",
       "      <td>0.689811</td>\n",
       "      <td>-0.056715</td>\n",
       "    </tr>\n",
       "    <tr>\n",
       "      <th>reanalysis_max_air_temp_k</th>\n",
       "      <td>0.519083</td>\n",
       "      <td>0.256677</td>\n",
       "      <td>0.935089</td>\n",
       "      <td>0.938952</td>\n",
       "      <td>0.847236</td>\n",
       "      <td>1.000000</td>\n",
       "      <td>0.828478</td>\n",
       "      <td>0.091037</td>\n",
       "      <td>0.288485</td>\n",
       "      <td>0.853216</td>\n",
       "      <td>0.350008</td>\n",
       "      <td>0.104832</td>\n",
       "      <td>0.194532</td>\n",
       "      <td>0.770742</td>\n",
       "      <td>0.852529</td>\n",
       "      <td>0.760859</td>\n",
       "      <td>0.113533</td>\n",
       "    </tr>\n",
       "    <tr>\n",
       "      <th>reanalysis_min_air_temp_k</th>\n",
       "      <td>0.574494</td>\n",
       "      <td>0.246372</td>\n",
       "      <td>0.942254</td>\n",
       "      <td>0.939120</td>\n",
       "      <td>0.898814</td>\n",
       "      <td>0.828478</td>\n",
       "      <td>1.000000</td>\n",
       "      <td>0.132483</td>\n",
       "      <td>0.385908</td>\n",
       "      <td>0.896218</td>\n",
       "      <td>-0.052677</td>\n",
       "      <td>0.150992</td>\n",
       "      <td>0.187943</td>\n",
       "      <td>0.829437</td>\n",
       "      <td>0.841656</td>\n",
       "      <td>0.626844</td>\n",
       "      <td>-0.023968</td>\n",
       "    </tr>\n",
       "    <tr>\n",
       "      <th>reanalysis_precip_amt_kg_per_m2</th>\n",
       "      <td>0.253975</td>\n",
       "      <td>0.508953</td>\n",
       "      <td>0.079883</td>\n",
       "      <td>0.062023</td>\n",
       "      <td>0.328449</td>\n",
       "      <td>0.091037</td>\n",
       "      <td>0.132483</td>\n",
       "      <td>1.000000</td>\n",
       "      <td>0.602747</td>\n",
       "      <td>0.334400</td>\n",
       "      <td>-0.307892</td>\n",
       "      <td>0.478122</td>\n",
       "      <td>0.107457</td>\n",
       "      <td>0.197903</td>\n",
       "      <td>0.134192</td>\n",
       "      <td>0.079711</td>\n",
       "      <td>-0.252450</td>\n",
       "    </tr>\n",
       "    <tr>\n",
       "      <th>reanalysis_relative_humidity_percent</th>\n",
       "      <td>0.306771</td>\n",
       "      <td>0.501149</td>\n",
       "      <td>0.299139</td>\n",
       "      <td>0.285179</td>\n",
       "      <td>0.679369</td>\n",
       "      <td>0.288485</td>\n",
       "      <td>0.385908</td>\n",
       "      <td>0.602747</td>\n",
       "      <td>1.000000</td>\n",
       "      <td>0.674255</td>\n",
       "      <td>-0.374868</td>\n",
       "      <td>0.444452</td>\n",
       "      <td>0.144045</td>\n",
       "      <td>0.466890</td>\n",
       "      <td>0.427729</td>\n",
       "      <td>0.343247</td>\n",
       "      <td>-0.193822</td>\n",
       "    </tr>\n",
       "    <tr>\n",
       "      <th>reanalysis_specific_humidity_g_per_kg</th>\n",
       "      <td>0.585224</td>\n",
       "      <td>0.410019</td>\n",
       "      <td>0.904819</td>\n",
       "      <td>0.896178</td>\n",
       "      <td>0.998532</td>\n",
       "      <td>0.853216</td>\n",
       "      <td>0.896218</td>\n",
       "      <td>0.334400</td>\n",
       "      <td>0.674255</td>\n",
       "      <td>1.000000</td>\n",
       "      <td>-0.028801</td>\n",
       "      <td>0.288529</td>\n",
       "      <td>0.207947</td>\n",
       "      <td>0.849247</td>\n",
       "      <td>0.870008</td>\n",
       "      <td>0.691044</td>\n",
       "      <td>-0.059680</td>\n",
       "    </tr>\n",
       "    <tr>\n",
       "      <th>reanalysis_tdtr_k</th>\n",
       "      <td>-0.099084</td>\n",
       "      <td>-0.093928</td>\n",
       "      <td>0.175060</td>\n",
       "      <td>0.198187</td>\n",
       "      <td>-0.035965</td>\n",
       "      <td>0.350008</td>\n",
       "      <td>-0.052677</td>\n",
       "      <td>-0.307892</td>\n",
       "      <td>-0.374868</td>\n",
       "      <td>-0.028801</td>\n",
       "      <td>1.000000</td>\n",
       "      <td>-0.206362</td>\n",
       "      <td>-0.067600</td>\n",
       "      <td>0.007576</td>\n",
       "      <td>0.135852</td>\n",
       "      <td>0.279740</td>\n",
       "      <td>0.371010</td>\n",
       "    </tr>\n",
       "    <tr>\n",
       "      <th>station_precip_mm</th>\n",
       "      <td>0.213336</td>\n",
       "      <td>0.565961</td>\n",
       "      <td>0.113726</td>\n",
       "      <td>0.097849</td>\n",
       "      <td>0.285280</td>\n",
       "      <td>0.104832</td>\n",
       "      <td>0.150992</td>\n",
       "      <td>0.478122</td>\n",
       "      <td>0.444452</td>\n",
       "      <td>0.288529</td>\n",
       "      <td>-0.206362</td>\n",
       "      <td>1.000000</td>\n",
       "      <td>0.051759</td>\n",
       "      <td>0.085181</td>\n",
       "      <td>0.030822</td>\n",
       "      <td>0.005935</td>\n",
       "      <td>-0.265303</td>\n",
       "    </tr>\n",
       "    <tr>\n",
       "      <th>total_cases</th>\n",
       "      <td>0.287134</td>\n",
       "      <td>0.060211</td>\n",
       "      <td>0.181917</td>\n",
       "      <td>0.175267</td>\n",
       "      <td>0.203774</td>\n",
       "      <td>0.194532</td>\n",
       "      <td>0.187943</td>\n",
       "      <td>0.107457</td>\n",
       "      <td>0.144045</td>\n",
       "      <td>0.207947</td>\n",
       "      <td>-0.067600</td>\n",
       "      <td>0.051759</td>\n",
       "      <td>1.000000</td>\n",
       "      <td>0.177012</td>\n",
       "      <td>0.196617</td>\n",
       "      <td>0.189901</td>\n",
       "      <td>0.034630</td>\n",
       "    </tr>\n",
       "    <tr>\n",
       "      <th>station_min_temp_k</th>\n",
       "      <td>0.520129</td>\n",
       "      <td>0.224667</td>\n",
       "      <td>0.832863</td>\n",
       "      <td>0.827112</td>\n",
       "      <td>0.850157</td>\n",
       "      <td>0.770742</td>\n",
       "      <td>0.829437</td>\n",
       "      <td>0.197903</td>\n",
       "      <td>0.466890</td>\n",
       "      <td>0.849247</td>\n",
       "      <td>0.007576</td>\n",
       "      <td>0.085181</td>\n",
       "      <td>0.177012</td>\n",
       "      <td>1.000000</td>\n",
       "      <td>0.898393</td>\n",
       "      <td>0.673001</td>\n",
       "      <td>-0.124651</td>\n",
       "    </tr>\n",
       "    <tr>\n",
       "      <th>station_avg_temp_k</th>\n",
       "      <td>0.485038</td>\n",
       "      <td>0.196218</td>\n",
       "      <td>0.880931</td>\n",
       "      <td>0.879129</td>\n",
       "      <td>0.868930</td>\n",
       "      <td>0.852529</td>\n",
       "      <td>0.841656</td>\n",
       "      <td>0.134192</td>\n",
       "      <td>0.427729</td>\n",
       "      <td>0.870008</td>\n",
       "      <td>0.135852</td>\n",
       "      <td>0.030822</td>\n",
       "      <td>0.196617</td>\n",
       "      <td>0.898393</td>\n",
       "      <td>1.000000</td>\n",
       "      <td>0.864515</td>\n",
       "      <td>0.183247</td>\n",
       "    </tr>\n",
       "    <tr>\n",
       "      <th>station_max_temp_k</th>\n",
       "      <td>0.325748</td>\n",
       "      <td>0.193713</td>\n",
       "      <td>0.697949</td>\n",
       "      <td>0.703316</td>\n",
       "      <td>0.689811</td>\n",
       "      <td>0.760859</td>\n",
       "      <td>0.626844</td>\n",
       "      <td>0.079711</td>\n",
       "      <td>0.343247</td>\n",
       "      <td>0.691044</td>\n",
       "      <td>0.279740</td>\n",
       "      <td>0.005935</td>\n",
       "      <td>0.189901</td>\n",
       "      <td>0.673001</td>\n",
       "      <td>0.864515</td>\n",
       "      <td>1.000000</td>\n",
       "      <td>0.473263</td>\n",
       "    </tr>\n",
       "    <tr>\n",
       "      <th>station_diur_temp_rng_k</th>\n",
       "      <td>-0.137093</td>\n",
       "      <td>-0.158479</td>\n",
       "      <td>0.039391</td>\n",
       "      <td>0.053967</td>\n",
       "      <td>-0.056715</td>\n",
       "      <td>0.113533</td>\n",
       "      <td>-0.023968</td>\n",
       "      <td>-0.252450</td>\n",
       "      <td>-0.193822</td>\n",
       "      <td>-0.059680</td>\n",
       "      <td>0.371010</td>\n",
       "      <td>-0.265303</td>\n",
       "      <td>0.034630</td>\n",
       "      <td>-0.124651</td>\n",
       "      <td>0.183247</td>\n",
       "      <td>0.473263</td>\n",
       "      <td>1.000000</td>\n",
       "    </tr>\n",
       "  </tbody>\n",
       "</table>\n",
       "</div>"
      ],
      "text/plain": [
       "                                       weekofyear  precipitation_amt_mm  \\\n",
       "weekofyear                               1.000000              0.231961   \n",
       "precipitation_amt_mm                     0.231961              1.000000   \n",
       "reanalysis_air_temp_k                    0.575381              0.233912   \n",
       "reanalysis_avg_temp_k                    0.561001              0.222311   \n",
       "reanalysis_dew_point_temp_k              0.578072              0.402744   \n",
       "reanalysis_max_air_temp_k                0.519083              0.256677   \n",
       "reanalysis_min_air_temp_k                0.574494              0.246372   \n",
       "reanalysis_precip_amt_kg_per_m2          0.253975              0.508953   \n",
       "reanalysis_relative_humidity_percent     0.306771              0.501149   \n",
       "reanalysis_specific_humidity_g_per_kg    0.585224              0.410019   \n",
       "reanalysis_tdtr_k                       -0.099084             -0.093928   \n",
       "station_precip_mm                        0.213336              0.565961   \n",
       "total_cases                              0.287134              0.060211   \n",
       "station_min_temp_k                       0.520129              0.224667   \n",
       "station_avg_temp_k                       0.485038              0.196218   \n",
       "station_max_temp_k                       0.325748              0.193713   \n",
       "station_diur_temp_rng_k                 -0.137093             -0.158479   \n",
       "\n",
       "                                       reanalysis_air_temp_k  \\\n",
       "weekofyear                                          0.575381   \n",
       "precipitation_amt_mm                                0.233912   \n",
       "reanalysis_air_temp_k                               1.000000   \n",
       "reanalysis_avg_temp_k                               0.997495   \n",
       "reanalysis_dew_point_temp_k                         0.903287   \n",
       "reanalysis_max_air_temp_k                           0.935089   \n",
       "reanalysis_min_air_temp_k                           0.942254   \n",
       "reanalysis_precip_amt_kg_per_m2                     0.079883   \n",
       "reanalysis_relative_humidity_percent                0.299139   \n",
       "reanalysis_specific_humidity_g_per_kg               0.904819   \n",
       "reanalysis_tdtr_k                                   0.175060   \n",
       "station_precip_mm                                   0.113726   \n",
       "total_cases                                         0.181917   \n",
       "station_min_temp_k                                  0.832863   \n",
       "station_avg_temp_k                                  0.880931   \n",
       "station_max_temp_k                                  0.697949   \n",
       "station_diur_temp_rng_k                             0.039391   \n",
       "\n",
       "                                       reanalysis_avg_temp_k  \\\n",
       "weekofyear                                          0.561001   \n",
       "precipitation_amt_mm                                0.222311   \n",
       "reanalysis_air_temp_k                               0.997495   \n",
       "reanalysis_avg_temp_k                               1.000000   \n",
       "reanalysis_dew_point_temp_k                         0.895123   \n",
       "reanalysis_max_air_temp_k                           0.938952   \n",
       "reanalysis_min_air_temp_k                           0.939120   \n",
       "reanalysis_precip_amt_kg_per_m2                     0.062023   \n",
       "reanalysis_relative_humidity_percent                0.285179   \n",
       "reanalysis_specific_humidity_g_per_kg               0.896178   \n",
       "reanalysis_tdtr_k                                   0.198187   \n",
       "station_precip_mm                                   0.097849   \n",
       "total_cases                                         0.175267   \n",
       "station_min_temp_k                                  0.827112   \n",
       "station_avg_temp_k                                  0.879129   \n",
       "station_max_temp_k                                  0.703316   \n",
       "station_diur_temp_rng_k                             0.053967   \n",
       "\n",
       "                                       reanalysis_dew_point_temp_k  \\\n",
       "weekofyear                                                0.578072   \n",
       "precipitation_amt_mm                                      0.402744   \n",
       "reanalysis_air_temp_k                                     0.903287   \n",
       "reanalysis_avg_temp_k                                     0.895123   \n",
       "reanalysis_dew_point_temp_k                               1.000000   \n",
       "reanalysis_max_air_temp_k                                 0.847236   \n",
       "reanalysis_min_air_temp_k                                 0.898814   \n",
       "reanalysis_precip_amt_kg_per_m2                           0.328449   \n",
       "reanalysis_relative_humidity_percent                      0.679369   \n",
       "reanalysis_specific_humidity_g_per_kg                     0.998532   \n",
       "reanalysis_tdtr_k                                        -0.035965   \n",
       "station_precip_mm                                         0.285280   \n",
       "total_cases                                               0.203774   \n",
       "station_min_temp_k                                        0.850157   \n",
       "station_avg_temp_k                                        0.868930   \n",
       "station_max_temp_k                                        0.689811   \n",
       "station_diur_temp_rng_k                                  -0.056715   \n",
       "\n",
       "                                       reanalysis_max_air_temp_k  \\\n",
       "weekofyear                                              0.519083   \n",
       "precipitation_amt_mm                                    0.256677   \n",
       "reanalysis_air_temp_k                                   0.935089   \n",
       "reanalysis_avg_temp_k                                   0.938952   \n",
       "reanalysis_dew_point_temp_k                             0.847236   \n",
       "reanalysis_max_air_temp_k                               1.000000   \n",
       "reanalysis_min_air_temp_k                               0.828478   \n",
       "reanalysis_precip_amt_kg_per_m2                         0.091037   \n",
       "reanalysis_relative_humidity_percent                    0.288485   \n",
       "reanalysis_specific_humidity_g_per_kg                   0.853216   \n",
       "reanalysis_tdtr_k                                       0.350008   \n",
       "station_precip_mm                                       0.104832   \n",
       "total_cases                                             0.194532   \n",
       "station_min_temp_k                                      0.770742   \n",
       "station_avg_temp_k                                      0.852529   \n",
       "station_max_temp_k                                      0.760859   \n",
       "station_diur_temp_rng_k                                 0.113533   \n",
       "\n",
       "                                       reanalysis_min_air_temp_k  \\\n",
       "weekofyear                                              0.574494   \n",
       "precipitation_amt_mm                                    0.246372   \n",
       "reanalysis_air_temp_k                                   0.942254   \n",
       "reanalysis_avg_temp_k                                   0.939120   \n",
       "reanalysis_dew_point_temp_k                             0.898814   \n",
       "reanalysis_max_air_temp_k                               0.828478   \n",
       "reanalysis_min_air_temp_k                               1.000000   \n",
       "reanalysis_precip_amt_kg_per_m2                         0.132483   \n",
       "reanalysis_relative_humidity_percent                    0.385908   \n",
       "reanalysis_specific_humidity_g_per_kg                   0.896218   \n",
       "reanalysis_tdtr_k                                      -0.052677   \n",
       "station_precip_mm                                       0.150992   \n",
       "total_cases                                             0.187943   \n",
       "station_min_temp_k                                      0.829437   \n",
       "station_avg_temp_k                                      0.841656   \n",
       "station_max_temp_k                                      0.626844   \n",
       "station_diur_temp_rng_k                                -0.023968   \n",
       "\n",
       "                                       reanalysis_precip_amt_kg_per_m2  \\\n",
       "weekofyear                                                    0.253975   \n",
       "precipitation_amt_mm                                          0.508953   \n",
       "reanalysis_air_temp_k                                         0.079883   \n",
       "reanalysis_avg_temp_k                                         0.062023   \n",
       "reanalysis_dew_point_temp_k                                   0.328449   \n",
       "reanalysis_max_air_temp_k                                     0.091037   \n",
       "reanalysis_min_air_temp_k                                     0.132483   \n",
       "reanalysis_precip_amt_kg_per_m2                               1.000000   \n",
       "reanalysis_relative_humidity_percent                          0.602747   \n",
       "reanalysis_specific_humidity_g_per_kg                         0.334400   \n",
       "reanalysis_tdtr_k                                            -0.307892   \n",
       "station_precip_mm                                             0.478122   \n",
       "total_cases                                                   0.107457   \n",
       "station_min_temp_k                                            0.197903   \n",
       "station_avg_temp_k                                            0.134192   \n",
       "station_max_temp_k                                            0.079711   \n",
       "station_diur_temp_rng_k                                      -0.252450   \n",
       "\n",
       "                                       reanalysis_relative_humidity_percent  \\\n",
       "weekofyear                                                         0.306771   \n",
       "precipitation_amt_mm                                               0.501149   \n",
       "reanalysis_air_temp_k                                              0.299139   \n",
       "reanalysis_avg_temp_k                                              0.285179   \n",
       "reanalysis_dew_point_temp_k                                        0.679369   \n",
       "reanalysis_max_air_temp_k                                          0.288485   \n",
       "reanalysis_min_air_temp_k                                          0.385908   \n",
       "reanalysis_precip_amt_kg_per_m2                                    0.602747   \n",
       "reanalysis_relative_humidity_percent                               1.000000   \n",
       "reanalysis_specific_humidity_g_per_kg                              0.674255   \n",
       "reanalysis_tdtr_k                                                 -0.374868   \n",
       "station_precip_mm                                                  0.444452   \n",
       "total_cases                                                        0.144045   \n",
       "station_min_temp_k                                                 0.466890   \n",
       "station_avg_temp_k                                                 0.427729   \n",
       "station_max_temp_k                                                 0.343247   \n",
       "station_diur_temp_rng_k                                           -0.193822   \n",
       "\n",
       "                                       reanalysis_specific_humidity_g_per_kg  \\\n",
       "weekofyear                                                          0.585224   \n",
       "precipitation_amt_mm                                                0.410019   \n",
       "reanalysis_air_temp_k                                               0.904819   \n",
       "reanalysis_avg_temp_k                                               0.896178   \n",
       "reanalysis_dew_point_temp_k                                         0.998532   \n",
       "reanalysis_max_air_temp_k                                           0.853216   \n",
       "reanalysis_min_air_temp_k                                           0.896218   \n",
       "reanalysis_precip_amt_kg_per_m2                                     0.334400   \n",
       "reanalysis_relative_humidity_percent                                0.674255   \n",
       "reanalysis_specific_humidity_g_per_kg                               1.000000   \n",
       "reanalysis_tdtr_k                                                  -0.028801   \n",
       "station_precip_mm                                                   0.288529   \n",
       "total_cases                                                         0.207947   \n",
       "station_min_temp_k                                                  0.849247   \n",
       "station_avg_temp_k                                                  0.870008   \n",
       "station_max_temp_k                                                  0.691044   \n",
       "station_diur_temp_rng_k                                            -0.059680   \n",
       "\n",
       "                                       reanalysis_tdtr_k  station_precip_mm  \\\n",
       "weekofyear                                     -0.099084           0.213336   \n",
       "precipitation_amt_mm                           -0.093928           0.565961   \n",
       "reanalysis_air_temp_k                           0.175060           0.113726   \n",
       "reanalysis_avg_temp_k                           0.198187           0.097849   \n",
       "reanalysis_dew_point_temp_k                    -0.035965           0.285280   \n",
       "reanalysis_max_air_temp_k                       0.350008           0.104832   \n",
       "reanalysis_min_air_temp_k                      -0.052677           0.150992   \n",
       "reanalysis_precip_amt_kg_per_m2                -0.307892           0.478122   \n",
       "reanalysis_relative_humidity_percent           -0.374868           0.444452   \n",
       "reanalysis_specific_humidity_g_per_kg          -0.028801           0.288529   \n",
       "reanalysis_tdtr_k                               1.000000          -0.206362   \n",
       "station_precip_mm                              -0.206362           1.000000   \n",
       "total_cases                                    -0.067600           0.051759   \n",
       "station_min_temp_k                              0.007576           0.085181   \n",
       "station_avg_temp_k                              0.135852           0.030822   \n",
       "station_max_temp_k                              0.279740           0.005935   \n",
       "station_diur_temp_rng_k                         0.371010          -0.265303   \n",
       "\n",
       "                                       total_cases  station_min_temp_k  \\\n",
       "weekofyear                                0.287134            0.520129   \n",
       "precipitation_amt_mm                      0.060211            0.224667   \n",
       "reanalysis_air_temp_k                     0.181917            0.832863   \n",
       "reanalysis_avg_temp_k                     0.175267            0.827112   \n",
       "reanalysis_dew_point_temp_k               0.203774            0.850157   \n",
       "reanalysis_max_air_temp_k                 0.194532            0.770742   \n",
       "reanalysis_min_air_temp_k                 0.187943            0.829437   \n",
       "reanalysis_precip_amt_kg_per_m2           0.107457            0.197903   \n",
       "reanalysis_relative_humidity_percent      0.144045            0.466890   \n",
       "reanalysis_specific_humidity_g_per_kg     0.207947            0.849247   \n",
       "reanalysis_tdtr_k                        -0.067600            0.007576   \n",
       "station_precip_mm                         0.051759            0.085181   \n",
       "total_cases                               1.000000            0.177012   \n",
       "station_min_temp_k                        0.177012            1.000000   \n",
       "station_avg_temp_k                        0.196617            0.898393   \n",
       "station_max_temp_k                        0.189901            0.673001   \n",
       "station_diur_temp_rng_k                   0.034630           -0.124651   \n",
       "\n",
       "                                       station_avg_temp_k  station_max_temp_k  \\\n",
       "weekofyear                                       0.485038            0.325748   \n",
       "precipitation_amt_mm                             0.196218            0.193713   \n",
       "reanalysis_air_temp_k                            0.880931            0.697949   \n",
       "reanalysis_avg_temp_k                            0.879129            0.703316   \n",
       "reanalysis_dew_point_temp_k                      0.868930            0.689811   \n",
       "reanalysis_max_air_temp_k                        0.852529            0.760859   \n",
       "reanalysis_min_air_temp_k                        0.841656            0.626844   \n",
       "reanalysis_precip_amt_kg_per_m2                  0.134192            0.079711   \n",
       "reanalysis_relative_humidity_percent             0.427729            0.343247   \n",
       "reanalysis_specific_humidity_g_per_kg            0.870008            0.691044   \n",
       "reanalysis_tdtr_k                                0.135852            0.279740   \n",
       "station_precip_mm                                0.030822            0.005935   \n",
       "total_cases                                      0.196617            0.189901   \n",
       "station_min_temp_k                               0.898393            0.673001   \n",
       "station_avg_temp_k                               1.000000            0.864515   \n",
       "station_max_temp_k                               0.864515            1.000000   \n",
       "station_diur_temp_rng_k                          0.183247            0.473263   \n",
       "\n",
       "                                       station_diur_temp_rng_k  \n",
       "weekofyear                                           -0.137093  \n",
       "precipitation_amt_mm                                 -0.158479  \n",
       "reanalysis_air_temp_k                                 0.039391  \n",
       "reanalysis_avg_temp_k                                 0.053967  \n",
       "reanalysis_dew_point_temp_k                          -0.056715  \n",
       "reanalysis_max_air_temp_k                             0.113533  \n",
       "reanalysis_min_air_temp_k                            -0.023968  \n",
       "reanalysis_precip_amt_kg_per_m2                      -0.252450  \n",
       "reanalysis_relative_humidity_percent                 -0.193822  \n",
       "reanalysis_specific_humidity_g_per_kg                -0.059680  \n",
       "reanalysis_tdtr_k                                     0.371010  \n",
       "station_precip_mm                                    -0.265303  \n",
       "total_cases                                           0.034630  \n",
       "station_min_temp_k                                   -0.124651  \n",
       "station_avg_temp_k                                    0.183247  \n",
       "station_max_temp_k                                    0.473263  \n",
       "station_diur_temp_rng_k                               1.000000  "
      ]
     },
     "execution_count": 57,
     "metadata": {},
     "output_type": "execute_result"
    }
   ],
   "source": [
    "sj.corr()"
   ]
  },
  {
   "cell_type": "code",
   "execution_count": 58,
   "metadata": {},
   "outputs": [],
   "source": [
    "# I'll be using scikit learn's Imputer module to fill in the misisng values\n",
    "from sklearn.preprocessing import Imputer\n",
    "fill_NaN = Imputer(missing_values=np.nan, strategy='mean', axis=1)"
   ]
  },
  {
   "cell_type": "code",
   "execution_count": 59,
   "metadata": {
    "collapsed": true
   },
   "outputs": [],
   "source": [
    "imputed_sj = pd.DataFrame(fill_NaN.fit_transform(sj))\n",
    "imputed_sj.columns = sj.columns\n",
    "imputed_sj.index = sj.index"
   ]
  },
  {
   "cell_type": "code",
   "execution_count": 60,
   "metadata": {},
   "outputs": [
    {
     "data": {
      "text/plain": [
       "weekofyear                               0\n",
       "precipitation_amt_mm                     0\n",
       "reanalysis_air_temp_k                    0\n",
       "reanalysis_avg_temp_k                    0\n",
       "reanalysis_dew_point_temp_k              0\n",
       "reanalysis_max_air_temp_k                0\n",
       "reanalysis_min_air_temp_k                0\n",
       "reanalysis_precip_amt_kg_per_m2          0\n",
       "reanalysis_relative_humidity_percent     0\n",
       "reanalysis_specific_humidity_g_per_kg    0\n",
       "reanalysis_tdtr_k                        0\n",
       "station_precip_mm                        0\n",
       "total_cases                              0\n",
       "station_min_temp_k                       0\n",
       "station_avg_temp_k                       0\n",
       "station_max_temp_k                       0\n",
       "station_diur_temp_rng_k                  0\n",
       "dtype: int64"
      ]
     },
     "execution_count": 60,
     "metadata": {},
     "output_type": "execute_result"
    }
   ],
   "source": [
    "# Looks good!\n",
    "imputed_sj.isnull().sum()"
   ]
  },
  {
   "cell_type": "markdown",
   "metadata": {},
   "source": [
    "#### Now we can move on to creating our first linear regression model"
   ]
  },
  {
   "cell_type": "markdown",
   "metadata": {},
   "source": [
    "### Create linear regression model for San Juan"
   ]
  },
  {
   "cell_type": "code",
   "execution_count": 68,
   "metadata": {},
   "outputs": [],
   "source": [
    "# set target variable\n",
    "y = imputed_sj['total_cases']"
   ]
  },
  {
   "cell_type": "code",
   "execution_count": 69,
   "metadata": {},
   "outputs": [],
   "source": [
    "imputed_sj.drop('total_cases', inplace=True, axis=1)"
   ]
  },
  {
   "cell_type": "code",
   "execution_count": 70,
   "metadata": {
    "collapsed": true
   },
   "outputs": [],
   "source": [
    "from sklearn.model_selection import train_test_split"
   ]
  },
  {
   "cell_type": "markdown",
   "metadata": {},
   "source": [
    "Create training data and test data (test size will use 30% of the data, random state specifies a random split)"
   ]
  },
  {
   "cell_type": "code",
   "execution_count": 71,
   "metadata": {},
   "outputs": [
    {
     "data": {
      "text/plain": [
       "((281, 16), (281,))"
      ]
     },
     "execution_count": 71,
     "metadata": {},
     "output_type": "execute_result"
    }
   ],
   "source": [
    "X_train, X_test, y_train, y_test = train_test_split(imputed_sj, y, test_size=0.3)\n",
    "X_train.shape, y_train.shape\n",
    "X_test.shape, y_test.shape"
   ]
  },
  {
   "cell_type": "code",
   "execution_count": 72,
   "metadata": {
    "collapsed": true
   },
   "outputs": [],
   "source": [
    "from sklearn.linear_model import LinearRegression"
   ]
  },
  {
   "cell_type": "code",
   "execution_count": 73,
   "metadata": {
    "collapsed": true
   },
   "outputs": [],
   "source": [
    "lm = LinearRegression()"
   ]
  },
  {
   "cell_type": "code",
   "execution_count": 74,
   "metadata": {},
   "outputs": [
    {
     "name": "stderr",
     "output_type": "stream",
     "text": [
      "/Users/annas.kiefer/Desktop/dengue_fever/env/lib/python3.5/site-packages/scipy/linalg/basic.py:1018: RuntimeWarning: internal gelsd driver lwork query error, required iwork dimension not returned. This is likely the result of LAPACK bug 0038, fixed in LAPACK 3.2.2 (released July 21, 2010). Falling back to 'gelss' driver.\n",
      "  warnings.warn(mesg, RuntimeWarning)\n"
     ]
    }
   ],
   "source": [
    "model = lm.fit(X_train, y_train)"
   ]
  },
  {
   "cell_type": "code",
   "execution_count": 75,
   "metadata": {
    "collapsed": true
   },
   "outputs": [],
   "source": [
    "predictions = lm.predict(X_test)"
   ]
  },
  {
   "cell_type": "code",
   "execution_count": 76,
   "metadata": {},
   "outputs": [
    {
     "data": {
      "text/plain": [
       "(281, 281)"
      ]
     },
     "execution_count": 76,
     "metadata": {},
     "output_type": "execute_result"
    }
   ],
   "source": [
    "len(predictions), len(y_test)"
   ]
  },
  {
   "cell_type": "code",
   "execution_count": 77,
   "metadata": {
    "collapsed": true
   },
   "outputs": [],
   "source": [
    "from sklearn import metrics"
   ]
  },
  {
   "cell_type": "code",
   "execution_count": 78,
   "metadata": {},
   "outputs": [
    {
     "data": {
      "text/plain": [
       "26.81265583273391"
      ]
     },
     "execution_count": 78,
     "metadata": {},
     "output_type": "execute_result"
    }
   ],
   "source": [
    "metrics.mean_absolute_error(y_test, predictions)"
   ]
  },
  {
   "cell_type": "code",
   "execution_count": 79,
   "metadata": {},
   "outputs": [
    {
     "data": {
      "text/plain": [
       "1863.5130533628637"
      ]
     },
     "execution_count": 79,
     "metadata": {},
     "output_type": "execute_result"
    }
   ],
   "source": [
    "metrics.mean_squared_error(y_test, predictions)"
   ]
  },
  {
   "cell_type": "code",
   "execution_count": 86,
   "metadata": {},
   "outputs": [
    {
     "data": {
      "text/plain": [
       "0.059125867844724393"
      ]
     },
     "execution_count": 86,
     "metadata": {},
     "output_type": "execute_result"
    }
   ],
   "source": [
    "# calculate the Rsquared\n",
    "# 5% of variance in total cases is explained by our features\n",
    "lm.score(X_test, y_test)"
   ]
  },
  {
   "cell_type": "code",
   "execution_count": 87,
   "metadata": {
    "scrolled": true
   },
   "outputs": [
    {
     "name": "stdout",
     "output_type": "stream",
     "text": [
      "37.2909536244\n"
     ]
    }
   ],
   "source": [
    "print(lm.intercept_)"
   ]
  },
  {
   "cell_type": "code",
   "execution_count": 81,
   "metadata": {},
   "outputs": [
    {
     "data": {
      "text/plain": [
       "<matplotlib.text.Text at 0x1172f62b0>"
      ]
     },
     "execution_count": 81,
     "metadata": {},
     "output_type": "execute_result"
    },
    {
     "data": {
      "image/png": "[encoded data removed]",
      "text/plain": [
       "<matplotlib.figure.Figure at 0x116d00c50>"
      ]
     },
     "metadata": {},
     "output_type": "display_data"
    }
   ],
   "source": [
    "plt.scatter(y_test, predictions)\n",
    "plt.xlabel('True Values')\n",
    "plt.ylabel('Predictions')"
   ]
  },
  {
   "cell_type": "code",
   "execution_count": 82,
   "metadata": {
    "scrolled": false
   },
   "outputs": [
    {
     "data": {
      "text/plain": [
       "('Score: ', 0.059125867844724393)"
      ]
     },
     "execution_count": 82,
     "metadata": {},
     "output_type": "execute_result"
    }
   ],
   "source": [
    "\"Score: \", model.score(X_test, y_test)"
   ]
  },
  {
   "cell_type": "markdown",
   "metadata": {},
   "source": [
    "### As the resulting MAE was large for the first linear model, I will be deleting some of the columns with a low correlation and re-creating a linear model"
   ]
  },
  {
   "cell_type": "code",
   "execution_count": 89,
   "metadata": {},
   "outputs": [
    {
     "data": {
      "text/plain": [
       "Index(['weekofyear', 'precipitation_amt_mm', 'reanalysis_air_temp_k',\n",
       "       'reanalysis_avg_temp_k', 'reanalysis_dew_point_temp_k',\n",
       "       'reanalysis_max_air_temp_k', 'reanalysis_min_air_temp_k',\n",
       "       'reanalysis_precip_amt_kg_per_m2',\n",
       "       'reanalysis_relative_humidity_percent',\n",
       "       'reanalysis_specific_humidity_g_per_kg', 'reanalysis_tdtr_k',\n",
       "       'station_precip_mm', 'station_min_temp_k', 'station_avg_temp_k',\n",
       "       'station_max_temp_k', 'station_diur_temp_rng_k'],\n",
       "      dtype='object')"
      ]
     },
     "execution_count": 89,
     "metadata": {},
     "output_type": "execute_result"
    }
   ],
   "source": [
    "# deleting station_precipitation_mm, precipitation_amount_mm, reanalysis_tdtr_k, and station_diur_temp_rng_k\n",
    "imputed_sj.columns"
   ]
  },
  {
   "cell_type": "code",
   "execution_count": 90,
   "metadata": {},
   "outputs": [],
   "source": [
    "imputed_sj.drop(sj.columns[[1, 10, 11, 15]], axis=1, inplace=True)"
   ]
  },
  {
   "cell_type": "code",
   "execution_count": 91,
   "metadata": {},
   "outputs": [
    {
     "data": {
      "text/plain": [
       "Index(['weekofyear', 'reanalysis_air_temp_k', 'reanalysis_avg_temp_k',\n",
       "       'reanalysis_dew_point_temp_k', 'reanalysis_max_air_temp_k',\n",
       "       'reanalysis_min_air_temp_k', 'reanalysis_precip_amt_kg_per_m2',\n",
       "       'reanalysis_relative_humidity_percent',\n",
       "       'reanalysis_specific_humidity_g_per_kg', 'station_min_temp_k',\n",
       "       'station_avg_temp_k', 'station_max_temp_k'],\n",
       "      dtype='object')"
      ]
     },
     "execution_count": 91,
     "metadata": {},
     "output_type": "execute_result"
    }
   ],
   "source": [
    "imputed_sj.columns"
   ]
  },
  {
   "cell_type": "code",
   "execution_count": 92,
   "metadata": {},
   "outputs": [
    {
     "data": {
      "text/plain": [
       "((281, 12), (281,))"
      ]
     },
     "execution_count": 92,
     "metadata": {},
     "output_type": "execute_result"
    }
   ],
   "source": [
    "X_train_2, X_test_2, y_train_2, y_test_2 = train_test_split(imputed_sj, y, test_size=0.3)\n",
    "X_train_2.shape, y_train_2.shape\n",
    "X_test_2.shape, y_test_2.shape"
   ]
  },
  {
   "cell_type": "code",
   "execution_count": 93,
   "metadata": {
    "collapsed": true
   },
   "outputs": [],
   "source": [
    "lm2 = LinearRegression()"
   ]
  },
  {
   "cell_type": "code",
   "execution_count": 99,
   "metadata": {
    "collapsed": true
   },
   "outputs": [],
   "source": [
    "model = lm2.fit(X_train_2, y_train_2)"
   ]
  },
  {
   "cell_type": "code",
   "execution_count": 100,
   "metadata": {
    "collapsed": true
   },
   "outputs": [],
   "source": [
    "predictions_2 = lm2.predict(X_test_2)"
   ]
  },
  {
   "cell_type": "code",
   "execution_count": 97,
   "metadata": {},
   "outputs": [
    {
     "data": {
      "text/plain": [
       "29.172113531721205"
      ]
     },
     "execution_count": 97,
     "metadata": {},
     "output_type": "execute_result"
    }
   ],
   "source": [
    "metrics.mean_absolute_error(y_test_2, predictions_2)"
   ]
  },
  {
   "cell_type": "code",
   "execution_count": 102,
   "metadata": {},
   "outputs": [
    {
     "data": {
      "text/plain": [
       "(281, 281)"
      ]
     },
     "execution_count": 102,
     "metadata": {},
     "output_type": "execute_result"
    }
   ],
   "source": [
    "len(X_test_2), len(y_test_2)"
   ]
  },
  {
   "cell_type": "code",
   "execution_count": 105,
   "metadata": {},
   "outputs": [
    {
     "data": {
      "text/plain": [
       "0.090993550626818909"
      ]
     },
     "execution_count": 105,
     "metadata": {},
     "output_type": "execute_result"
    }
   ],
   "source": [
    "# calculate the R squared\n",
    "# 9% of variance in total cases is explained by our features\n",
    "# Slightly better, but still not good\n",
    "lm2.score(X_test_2, y_test_2)"
   ]
  },
  {
   "cell_type": "markdown",
   "metadata": {},
   "source": [
    "### Average the NDVIs and add a new column"
   ]
  },
  {
   "cell_type": "code",
   "execution_count": null,
   "metadata": {
    "collapsed": true
   },
   "outputs": [],
   "source": [
    "df['ndvi_avg'] = df[['ndvi_ne', 'ndvi_nw', 'ndvi_se', 'ndvi_sw']].mean(axis=1)"
   ]
  },
  {
   "cell_type": "code",
   "execution_count": null,
   "metadata": {},
   "outputs": [],
   "source": [
    "df.head()"
   ]
  },
  {
   "cell_type": "markdown",
   "metadata": {},
   "source": [
    "### Delete the following columns as they have low correlation (as seen in correlation table above):\n",
    "- precipitation amount mm\n",
    "- reanalysis_sat_precip_amt_mm\n",
    "- station_max_temp_c\n",
    "- station_precip_mm\n",
    "- reanalysis_avg_temp (strong positive correlation with reanalysis_air_temp)"
   ]
  },
  {
   "cell_type": "code",
   "execution_count": null,
   "metadata": {
    "collapsed": true
   },
   "outputs": [],
   "source": [
    "df1 = df[['city', 'year', 'weekofyear', 'reanalysis_air_temp_k', 'reanalysis_dew_point_temp_k',\n",
    "       'reanalysis_max_air_temp_k', 'reanalysis_min_air_temp_k',\n",
    "       'reanalysis_precip_amt_kg_per_m2',\n",
    "       'reanalysis_relative_humidity_percent',\n",
    "       'reanalysis_specific_humidity_g_per_kg', 'reanalysis_tdtr_k',\n",
    "       'station_avg_temp_c', 'station_diur_temp_rng_c',\n",
    "       'station_min_temp_c', 'total_cases', 'ndvi_avg']]"
   ]
  },
  {
   "cell_type": "code",
   "execution_count": null,
   "metadata": {
    "collapsed": true
   },
   "outputs": [],
   "source": [
    "sj = df1[df1['city'] == 'sj']"
   ]
  },
  {
   "cell_type": "code",
   "execution_count": null,
   "metadata": {
    "collapsed": true
   },
   "outputs": [],
   "source": [
    "iq = df1[df1['city'] == 'iq']"
   ]
  },
  {
   "cell_type": "code",
   "execution_count": null,
   "metadata": {},
   "outputs": [],
   "source": [
    "sj.drop('city', inplace=True, axis=1)"
   ]
  },
  {
   "cell_type": "code",
   "execution_count": null,
   "metadata": {},
   "outputs": [],
   "source": [
    "sj.head()"
   ]
  },
  {
   "cell_type": "markdown",
   "metadata": {},
   "source": [
    "Do this for different input data"
   ]
  },
  {
   "cell_type": "code",
   "execution_count": null,
   "metadata": {
    "collapsed": true
   },
   "outputs": [],
   "source": [
    "def create_lr_model(data, columns_to_drop):\n",
    "    data = data.dropna()\n",
    "    y = data['total_cases']\n",
    "    lm = LinearRegression()\n",
    "    for column in columns_to_drop:\n",
    "        data.drop(column, inplace=True, axis=1)\n",
    "    X_train, X_test, y_train, y_test = train_test_split(\n",
    "        data, y, test_size=0.3)\n",
    "    X_train.shape, y_train.shape\n",
    "    X_test.shape, y_test.shape\n",
    "    model = lm.fit(X_train, y_train)\n",
    "    predictions = lm.predict(X_test)\n",
    "    mae = metrics.mean_absolute_error(y_test, predictions)\n",
    "    return mae"
   ]
  },
  {
   "cell_type": "code",
   "execution_count": null,
   "metadata": {
    "collapsed": true
   },
   "outputs": [],
   "source": [
    "df2 = pd.read_csv('../data/dengue_features_entire.csv')"
   ]
  },
  {
   "cell_type": "code",
   "execution_count": null,
   "metadata": {
    "collapsed": true
   },
   "outputs": [],
   "source": [
    "df2.head()"
   ]
  },
  {
   "cell_type": "code",
   "execution_count": null,
   "metadata": {
    "collapsed": true,
    "scrolled": true
   },
   "outputs": [],
   "source": [
    "sj_2 = df2[df2['city'] == 'sj']"
   ]
  },
  {
   "cell_type": "code",
   "execution_count": null,
   "metadata": {
    "collapsed": true
   },
   "outputs": [],
   "source": [
    "sj_2.head()"
   ]
  },
  {
   "cell_type": "code",
   "execution_count": null,
   "metadata": {
    "collapsed": true,
    "scrolled": false
   },
   "outputs": [],
   "source": [
    "sj_model_1_maes = []\n",
    "num_trials = 0\n",
    "while num_trials <== 10:\n",
    "    mae = create_lr_model(sj_2, ['total_cases', 'city', 'precipitation_amt_mm', 'week_start_date'])\n",
    "    sj_model_1_maes.append(mae)\n",
    "    num_trails += 1"
   ]
  },
  {
   "cell_type": "code",
   "execution_count": null,
   "metadata": {
    "collapsed": true
   },
   "outputs": [],
   "source": [
    "sj_model_1_maes"
   ]
  },
  {
   "cell_type": "code",
   "execution_count": null,
   "metadata": {
    "collapsed": true
   },
   "outputs": [],
   "source": []
  },
  {
   "cell_type": "code",
   "execution_count": null,
   "metadata": {
    "collapsed": true,
    "scrolled": false
   },
   "outputs": [],
   "source": [
    "sj_model_2 = create_lr_model(sj_2, [x for x in list(sj_2) if x != 'reanalysis_air_temp_k' and x != 'station_min_temp_c']) "
   ]
  },
  {
   "cell_type": "code",
   "execution_count": null,
   "metadata": {
    "collapsed": true
   },
   "outputs": [],
   "source": [
    "sj_model_2"
   ]
  },
  {
   "cell_type": "code",
   "execution_count": null,
   "metadata": {
    "collapsed": true
   },
   "outputs": [],
   "source": [
    "test"
   ]
  },
  {
   "cell_type": "code",
   "execution_count": null,
   "metadata": {
    "collapsed": true
   },
   "outputs": [],
   "source": [
    "mae_sj"
   ]
  },
  {
   "cell_type": "markdown",
   "metadata": {},
   "source": [
    "Create training data and test data (test size will use 40% of the data, random state specifies a random split)"
   ]
  },
  {
   "cell_type": "code",
   "execution_count": null,
   "metadata": {
    "collapsed": true
   },
   "outputs": [],
   "source": [
    "# from sklearn.model_selection import train_test_split"
   ]
  },
  {
   "cell_type": "code",
   "execution_count": null,
   "metadata": {
    "collapsed": true
   },
   "outputs": [],
   "source": [
    "# X1_train, X1_test, y1_train, y1_test = train_test_split(X1, y, test_size=0.4, random_state=101)"
   ]
  },
  {
   "cell_type": "code",
   "execution_count": null,
   "metadata": {
    "collapsed": true
   },
   "outputs": [],
   "source": [
    "# from sklearn.linear_model import LinearRegression"
   ]
  },
  {
   "cell_type": "code",
   "execution_count": null,
   "metadata": {
    "collapsed": true
   },
   "outputs": [],
   "source": [
    "# lm = LinearRegression()"
   ]
  },
  {
   "cell_type": "code",
   "execution_count": null,
   "metadata": {
    "collapsed": true
   },
   "outputs": [],
   "source": [
    "# lm.fit(X1_train, y1_train)"
   ]
  },
  {
   "cell_type": "code",
   "execution_count": null,
   "metadata": {
    "collapsed": true
   },
   "outputs": [],
   "source": [
    "# print(lm.intercept_)"
   ]
  },
  {
   "cell_type": "code",
   "execution_count": null,
   "metadata": {
    "collapsed": true
   },
   "outputs": [],
   "source": [
    "# lm.coef_"
   ]
  },
  {
   "cell_type": "code",
   "execution_count": null,
   "metadata": {
    "collapsed": true
   },
   "outputs": [],
   "source": [
    "# X1_train.columns"
   ]
  },
  {
   "cell_type": "code",
   "execution_count": null,
   "metadata": {
    "collapsed": true
   },
   "outputs": [],
   "source": [
    "# cdf = pd.DataFrame(lm.coef_,X.columns,columns=['Coeff'])"
   ]
  },
  {
   "cell_type": "code",
   "execution_count": null,
   "metadata": {
    "collapsed": true
   },
   "outputs": [],
   "source": [
    "# predictions = lm.predict(X1_test)"
   ]
  },
  {
   "cell_type": "code",
   "execution_count": null,
   "metadata": {
    "collapsed": true,
    "scrolled": true
   },
   "outputs": [],
   "source": [
    "# plt.scatter(y1_test, predictions)"
   ]
  },
  {
   "cell_type": "code",
   "execution_count": null,
   "metadata": {
    "collapsed": true
   },
   "outputs": [],
   "source": [
    "# from sklearn import metrics"
   ]
  },
  {
   "cell_type": "code",
   "execution_count": null,
   "metadata": {
    "collapsed": true
   },
   "outputs": [],
   "source": [
    "# metrics.mean_absolute_error(y1_test, predictions)"
   ]
  },
  {
   "cell_type": "code",
   "execution_count": null,
   "metadata": {
    "collapsed": true
   },
   "outputs": [],
   "source": [
    "# metrics.mean_squared_error(y1_test, predictions)"
   ]
  },
  {
   "cell_type": "code",
   "execution_count": null,
   "metadata": {
    "collapsed": true,
    "scrolled": true
   },
   "outputs": [],
   "source": [
    "# np.sqrt(metrics.mean_squared_error(y1_test, predictions))"
   ]
  },
  {
   "cell_type": "markdown",
   "metadata": {},
   "source": [
    "### Using all of the features in a linear regression model results in high variance, high bias and a weak linear relationship. <br> <font color=\"#2bbbad\">Perhaps using only one feature will yield better results?</font>"
   ]
  },
  {
   "cell_type": "code",
   "execution_count": null,
   "metadata": {
    "collapsed": true
   },
   "outputs": [],
   "source": []
  }
 ],
 "metadata": {
  "kernelspec": {
   "display_name": "Python 3",
   "language": "python",
   "name": "python3"
  },
  "language_info": {
   "codemirror_mode": {
    "name": "ipython",
    "version": 3
   },
   "file_extension": ".py",
   "mimetype": "text/x-python",
   "name": "python",
   "nbconvert_exporter": "python",
   "pygments_lexer": "ipython3",
   "version": "3.5.2"
  }
 },
 "nbformat": 4,
 "nbformat_minor": 2
}
