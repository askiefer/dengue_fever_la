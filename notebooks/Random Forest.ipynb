{
 "cells": [
  {
   "cell_type": "markdown",
   "metadata": {},
   "source": [
    "## Random Forests"
   ]
  },
  {
   "cell_type": "code",
   "execution_count": 2,
   "metadata": {
    "collapsed": true
   },
   "outputs": [],
   "source": [
    "import pandas as pd\n",
    "import numpy as np"
   ]
  },
  {
   "cell_type": "code",
   "execution_count": 3,
   "metadata": {
    "collapsed": true
   },
   "outputs": [],
   "source": [
    "import matplotlib.pyplot as plt\n",
    "import seaborn as sns"
   ]
  },
  {
   "cell_type": "code",
   "execution_count": 4,
   "metadata": {
    "collapsed": true
   },
   "outputs": [],
   "source": [
    "%matplotlib inline"
   ]
  },
  {
   "cell_type": "code",
   "execution_count": 8,
   "metadata": {},
   "outputs": [],
   "source": [
    "sj = pd.read_csv('../data/sj.csv', index_col=0)"
   ]
  },
  {
   "cell_type": "code",
   "execution_count": 9,
   "metadata": {
    "scrolled": true
   },
   "outputs": [
    {
     "data": {
      "text/html": [
       "<div>\n",
       "<style>\n",
       "    .dataframe thead tr:only-child th {\n",
       "        text-align: right;\n",
       "    }\n",
       "\n",
       "    .dataframe thead th {\n",
       "        text-align: left;\n",
       "    }\n",
       "\n",
       "    .dataframe tbody tr th {\n",
       "        vertical-align: top;\n",
       "    }\n",
       "</style>\n",
       "<table border=\"1\" class=\"dataframe\">\n",
       "  <thead>\n",
       "    <tr style=\"text-align: right;\">\n",
       "      <th></th>\n",
       "      <th>city</th>\n",
       "      <th>year</th>\n",
       "      <th>weekofyear</th>\n",
       "      <th>week_start_date</th>\n",
       "      <th>ndvi_ne</th>\n",
       "      <th>ndvi_nw</th>\n",
       "      <th>ndvi_se</th>\n",
       "      <th>ndvi_sw</th>\n",
       "      <th>precipitation_amt_mm</th>\n",
       "      <th>reanalysis_air_temp_k</th>\n",
       "      <th>...</th>\n",
       "      <th>reanalysis_precip_amt_kg_per_m2</th>\n",
       "      <th>reanalysis_relative_humidity_percent</th>\n",
       "      <th>reanalysis_specific_humidity_g_per_kg</th>\n",
       "      <th>reanalysis_tdtr_k</th>\n",
       "      <th>station_precip_mm</th>\n",
       "      <th>total_cases</th>\n",
       "      <th>station_min_temp_k</th>\n",
       "      <th>station_avg_temp_k</th>\n",
       "      <th>station_max_temp_k</th>\n",
       "      <th>station_diur_temp_rng_k</th>\n",
       "    </tr>\n",
       "  </thead>\n",
       "  <tbody>\n",
       "    <tr>\n",
       "      <th>0</th>\n",
       "      <td>sj</td>\n",
       "      <td>1990</td>\n",
       "      <td>18</td>\n",
       "      <td>1990-04-30</td>\n",
       "      <td>0.122600</td>\n",
       "      <td>0.103725</td>\n",
       "      <td>0.198483</td>\n",
       "      <td>0.177617</td>\n",
       "      <td>12.42</td>\n",
       "      <td>297.572857</td>\n",
       "      <td>...</td>\n",
       "      <td>32.00</td>\n",
       "      <td>73.365714</td>\n",
       "      <td>14.012857</td>\n",
       "      <td>2.628571</td>\n",
       "      <td>16.0</td>\n",
       "      <td>4</td>\n",
       "      <td>293.15</td>\n",
       "      <td>298.592857</td>\n",
       "      <td>302.55</td>\n",
       "      <td>280.050000</td>\n",
       "    </tr>\n",
       "    <tr>\n",
       "      <th>1</th>\n",
       "      <td>sj</td>\n",
       "      <td>1990</td>\n",
       "      <td>19</td>\n",
       "      <td>1990-05-07</td>\n",
       "      <td>0.169900</td>\n",
       "      <td>0.142175</td>\n",
       "      <td>0.162357</td>\n",
       "      <td>0.155486</td>\n",
       "      <td>22.82</td>\n",
       "      <td>298.211429</td>\n",
       "      <td>...</td>\n",
       "      <td>17.94</td>\n",
       "      <td>77.368571</td>\n",
       "      <td>15.372857</td>\n",
       "      <td>2.371429</td>\n",
       "      <td>8.6</td>\n",
       "      <td>5</td>\n",
       "      <td>295.35</td>\n",
       "      <td>299.864286</td>\n",
       "      <td>304.85</td>\n",
       "      <td>279.521429</td>\n",
       "    </tr>\n",
       "    <tr>\n",
       "      <th>2</th>\n",
       "      <td>sj</td>\n",
       "      <td>1990</td>\n",
       "      <td>20</td>\n",
       "      <td>1990-05-14</td>\n",
       "      <td>0.032250</td>\n",
       "      <td>0.172967</td>\n",
       "      <td>0.157200</td>\n",
       "      <td>0.170843</td>\n",
       "      <td>34.54</td>\n",
       "      <td>298.781429</td>\n",
       "      <td>...</td>\n",
       "      <td>26.10</td>\n",
       "      <td>82.052857</td>\n",
       "      <td>16.848571</td>\n",
       "      <td>2.300000</td>\n",
       "      <td>41.4</td>\n",
       "      <td>4</td>\n",
       "      <td>295.95</td>\n",
       "      <td>299.864286</td>\n",
       "      <td>305.35</td>\n",
       "      <td>279.635714</td>\n",
       "    </tr>\n",
       "    <tr>\n",
       "      <th>3</th>\n",
       "      <td>sj</td>\n",
       "      <td>1990</td>\n",
       "      <td>21</td>\n",
       "      <td>1990-05-21</td>\n",
       "      <td>0.128633</td>\n",
       "      <td>0.245067</td>\n",
       "      <td>0.227557</td>\n",
       "      <td>0.235886</td>\n",
       "      <td>15.36</td>\n",
       "      <td>298.987143</td>\n",
       "      <td>...</td>\n",
       "      <td>13.90</td>\n",
       "      <td>80.337143</td>\n",
       "      <td>16.672857</td>\n",
       "      <td>2.428571</td>\n",
       "      <td>4.0</td>\n",
       "      <td>3</td>\n",
       "      <td>296.45</td>\n",
       "      <td>300.621429</td>\n",
       "      <td>306.45</td>\n",
       "      <td>279.921429</td>\n",
       "    </tr>\n",
       "    <tr>\n",
       "      <th>4</th>\n",
       "      <td>sj</td>\n",
       "      <td>1990</td>\n",
       "      <td>22</td>\n",
       "      <td>1990-05-28</td>\n",
       "      <td>0.196200</td>\n",
       "      <td>0.262200</td>\n",
       "      <td>0.251200</td>\n",
       "      <td>0.247340</td>\n",
       "      <td>7.52</td>\n",
       "      <td>299.518571</td>\n",
       "      <td>...</td>\n",
       "      <td>12.20</td>\n",
       "      <td>80.460000</td>\n",
       "      <td>17.210000</td>\n",
       "      <td>3.014286</td>\n",
       "      <td>5.8</td>\n",
       "      <td>6</td>\n",
       "      <td>297.05</td>\n",
       "      <td>302.092857</td>\n",
       "      <td>308.15</td>\n",
       "      <td>282.521429</td>\n",
       "    </tr>\n",
       "  </tbody>\n",
       "</table>\n",
       "<p>5 rows × 24 columns</p>\n",
       "</div>"
      ],
      "text/plain": [
       "  city  year  weekofyear week_start_date   ndvi_ne   ndvi_nw   ndvi_se  \\\n",
       "0   sj  1990          18      1990-04-30  0.122600  0.103725  0.198483   \n",
       "1   sj  1990          19      1990-05-07  0.169900  0.142175  0.162357   \n",
       "2   sj  1990          20      1990-05-14  0.032250  0.172967  0.157200   \n",
       "3   sj  1990          21      1990-05-21  0.128633  0.245067  0.227557   \n",
       "4   sj  1990          22      1990-05-28  0.196200  0.262200  0.251200   \n",
       "\n",
       "    ndvi_sw  precipitation_amt_mm  reanalysis_air_temp_k  \\\n",
       "0  0.177617                 12.42             297.572857   \n",
       "1  0.155486                 22.82             298.211429   \n",
       "2  0.170843                 34.54             298.781429   \n",
       "3  0.235886                 15.36             298.987143   \n",
       "4  0.247340                  7.52             299.518571   \n",
       "\n",
       "            ...             reanalysis_precip_amt_kg_per_m2  \\\n",
       "0           ...                                       32.00   \n",
       "1           ...                                       17.94   \n",
       "2           ...                                       26.10   \n",
       "3           ...                                       13.90   \n",
       "4           ...                                       12.20   \n",
       "\n",
       "   reanalysis_relative_humidity_percent  \\\n",
       "0                             73.365714   \n",
       "1                             77.368571   \n",
       "2                             82.052857   \n",
       "3                             80.337143   \n",
       "4                             80.460000   \n",
       "\n",
       "   reanalysis_specific_humidity_g_per_kg  reanalysis_tdtr_k  \\\n",
       "0                              14.012857           2.628571   \n",
       "1                              15.372857           2.371429   \n",
       "2                              16.848571           2.300000   \n",
       "3                              16.672857           2.428571   \n",
       "4                              17.210000           3.014286   \n",
       "\n",
       "   station_precip_mm  total_cases  station_min_temp_k  station_avg_temp_k  \\\n",
       "0               16.0            4              293.15          298.592857   \n",
       "1                8.6            5              295.35          299.864286   \n",
       "2               41.4            4              295.95          299.864286   \n",
       "3                4.0            3              296.45          300.621429   \n",
       "4                5.8            6              297.05          302.092857   \n",
       "\n",
       "   station_max_temp_k  station_diur_temp_rng_k  \n",
       "0              302.55               280.050000  \n",
       "1              304.85               279.521429  \n",
       "2              305.35               279.635714  \n",
       "3              306.45               279.921429  \n",
       "4              308.15               282.521429  \n",
       "\n",
       "[5 rows x 24 columns]"
      ]
     },
     "execution_count": 9,
     "metadata": {},
     "output_type": "execute_result"
    }
   ],
   "source": [
    "sj.head()"
   ]
  },
  {
   "cell_type": "code",
   "execution_count": 14,
   "metadata": {
    "collapsed": true
   },
   "outputs": [],
   "source": [
    "sj.drop(sj.columns[[0, 1, 3, 4, 5, 6, 7]], axis=1, inplace=True)"
   ]
  },
  {
   "cell_type": "code",
   "execution_count": 15,
   "metadata": {},
   "outputs": [],
   "source": [
    "from sklearn.preprocessing import Imputer"
   ]
  },
  {
   "cell_type": "code",
   "execution_count": 16,
   "metadata": {
    "collapsed": true
   },
   "outputs": [],
   "source": [
    "fill_NaN = Imputer(missing_values=np.nan, strategy='mean', axis=1)"
   ]
  },
  {
   "cell_type": "code",
   "execution_count": 17,
   "metadata": {},
   "outputs": [],
   "source": [
    "imputed_sj = pd.DataFrame(fill_NaN.fit_transform(sj))\n",
    "imputed_sj.columns = sj.columns\n",
    "imputed_sj.index = sj.index"
   ]
  },
  {
   "cell_type": "code",
   "execution_count": 19,
   "metadata": {},
   "outputs": [
    {
     "data": {
      "text/plain": [
       "weekofyear                               0\n",
       "precipitation_amt_mm                     0\n",
       "reanalysis_air_temp_k                    0\n",
       "reanalysis_avg_temp_k                    0\n",
       "reanalysis_dew_point_temp_k              0\n",
       "reanalysis_max_air_temp_k                0\n",
       "reanalysis_min_air_temp_k                0\n",
       "reanalysis_precip_amt_kg_per_m2          0\n",
       "reanalysis_relative_humidity_percent     0\n",
       "reanalysis_specific_humidity_g_per_kg    0\n",
       "reanalysis_tdtr_k                        0\n",
       "station_precip_mm                        0\n",
       "total_cases                              0\n",
       "station_min_temp_k                       0\n",
       "station_avg_temp_k                       0\n",
       "station_max_temp_k                       0\n",
       "station_diur_temp_rng_k                  0\n",
       "dtype: int64"
      ]
     },
     "execution_count": 19,
     "metadata": {},
     "output_type": "execute_result"
    }
   ],
   "source": [
    "imputed_sj.isnull().sum()"
   ]
  },
  {
   "cell_type": "code",
   "execution_count": 20,
   "metadata": {
    "collapsed": true
   },
   "outputs": [],
   "source": [
    "# set target variable\n",
    "y = imputed_sj['total_cases']"
   ]
  },
  {
   "cell_type": "code",
   "execution_count": 21,
   "metadata": {
    "collapsed": true
   },
   "outputs": [],
   "source": [
    "# drop the target variable from the dataset\n",
    "imputed_sj.drop('total_cases', inplace=True, axis=1)"
   ]
  },
  {
   "cell_type": "code",
   "execution_count": 23,
   "metadata": {
    "collapsed": true
   },
   "outputs": [],
   "source": [
    "from sklearn.model_selection import train_test_split"
   ]
  },
  {
   "cell_type": "code",
   "execution_count": 24,
   "metadata": {},
   "outputs": [],
   "source": [
    "X_train, X_test, y_train, y_test = train_test_split(imputed_sj, y, test_size=0.3)"
   ]
  },
  {
   "cell_type": "code",
   "execution_count": null,
   "metadata": {
    "collapsed": true
   },
   "outputs": [],
   "source": [
    "sns.pairplot(df, hue='total_cases')"
   ]
  },
  {
   "cell_type": "code",
   "execution_count": null,
   "metadata": {
    "collapsed": true
   },
   "outputs": [],
   "source": [
    "X = df.drop('total_cases', axis=1)"
   ]
  },
  {
   "cell_type": "code",
   "execution_count": null,
   "metadata": {
    "collapsed": true
   },
   "outputs": [],
   "source": [
    "y = df['total_cases']"
   ]
  },
  {
   "cell_type": "code",
   "execution_count": null,
   "metadata": {
    "collapsed": true
   },
   "outputs": [],
   "source": [
    "X_train, X_test, y_train, y_test = train_test_split(X, y, test_size=0.4)"
   ]
  },
  {
   "cell_type": "markdown",
   "metadata": {},
   "source": [
    "Start of by training a single decision tree"
   ]
  },
  {
   "cell_type": "code",
   "execution_count": 25,
   "metadata": {
    "collapsed": true
   },
   "outputs": [],
   "source": [
    "from sklearn.tree import DecisionTreeClassifier"
   ]
  },
  {
   "cell_type": "code",
   "execution_count": 26,
   "metadata": {
    "collapsed": true
   },
   "outputs": [],
   "source": [
    "dtree = DecisionTreeClassifier()"
   ]
  },
  {
   "cell_type": "code",
   "execution_count": 27,
   "metadata": {},
   "outputs": [
    {
     "data": {
      "text/plain": [
       "DecisionTreeClassifier(class_weight=None, criterion='gini', max_depth=None,\n",
       "            max_features=None, max_leaf_nodes=None,\n",
       "            min_impurity_split=1e-07, min_samples_leaf=1,\n",
       "            min_samples_split=2, min_weight_fraction_leaf=0.0,\n",
       "            presort=False, random_state=None, splitter='best')"
      ]
     },
     "execution_count": 27,
     "metadata": {},
     "output_type": "execute_result"
    }
   ],
   "source": [
    "dtree.fit(X_train, y_train)"
   ]
  },
  {
   "cell_type": "markdown",
   "metadata": {},
   "source": [
    "Now evaluate how well the decision tree was able to predict based off of the columns the number of cases"
   ]
  },
  {
   "cell_type": "code",
   "execution_count": 28,
   "metadata": {
    "collapsed": true
   },
   "outputs": [],
   "source": [
    "predictions = dtree.predict(X_test)"
   ]
  },
  {
   "cell_type": "code",
   "execution_count": 29,
   "metadata": {
    "collapsed": true
   },
   "outputs": [],
   "source": [
    "from sklearn.metrics import classification_report, confusion_matrix"
   ]
  },
  {
   "cell_type": "code",
   "execution_count": 30,
   "metadata": {},
   "outputs": [
    {
     "name": "stdout",
     "output_type": "stream",
     "text": [
      "[[0 0 1 ..., 0 0 0]\n",
      " [0 0 0 ..., 0 0 0]\n",
      " [0 1 2 ..., 0 0 0]\n",
      " ..., \n",
      " [0 0 0 ..., 0 0 0]\n",
      " [0 0 0 ..., 0 0 0]\n",
      " [0 0 0 ..., 0 0 0]]\n",
      "\n",
      "\n",
      "             precision    recall  f1-score   support\n",
      "\n",
      "        1.0       0.00      0.00      0.00         3\n",
      "        2.0       0.00      0.00      0.00         7\n",
      "        3.0       0.12      0.29      0.17         7\n",
      "        4.0       0.00      0.00      0.00         9\n",
      "        5.0       0.00      0.00      0.00         8\n",
      "        6.0       0.12      0.11      0.12         9\n",
      "        7.0       0.00      0.00      0.00        11\n",
      "        8.0       0.00      0.00      0.00         8\n",
      "        9.0       0.00      0.00      0.00         6\n",
      "       10.0       0.00      0.00      0.00         5\n",
      "       11.0       0.33      0.33      0.33         6\n",
      "       12.0       0.00      0.00      0.00         9\n",
      "       13.0       0.00      0.00      0.00         4\n",
      "       14.0       0.09      0.12      0.11         8\n",
      "       15.0       0.00      0.00      0.00         5\n",
      "       16.0       0.00      0.00      0.00        13\n",
      "       17.0       0.00      0.00      0.00         6\n",
      "       18.0       0.10      0.20      0.13         5\n",
      "       19.0       0.00      0.00      0.00         4\n",
      "       20.0       0.00      0.00      0.00         4\n",
      "       21.0       0.00      0.00      0.00         5\n",
      "       22.0       0.00      0.00      0.00         4\n",
      "       23.0       0.00      0.00      0.00         4\n",
      "       24.0       0.00      0.00      0.00         4\n",
      "       25.0       0.00      0.00      0.00         5\n",
      "       26.0       0.00      0.00      0.00         4\n",
      "       27.0       0.00      0.00      0.00         3\n",
      "       28.0       0.00      0.00      0.00         3\n",
      "       29.0       0.00      0.00      0.00         3\n",
      "       30.0       0.00      0.00      0.00         6\n",
      "       31.0       0.00      0.00      0.00         5\n",
      "       32.0       0.00      0.00      0.00         4\n",
      "       33.0       0.00      0.00      0.00         4\n",
      "       34.0       0.00      0.00      0.00         4\n",
      "       35.0       0.00      0.00      0.00         4\n",
      "       36.0       0.00      0.00      0.00         1\n",
      "       37.0       0.00      0.00      0.00         2\n",
      "       38.0       0.00      0.00      0.00         6\n",
      "       39.0       0.00      0.00      0.00         2\n",
      "       40.0       0.00      0.00      0.00         4\n",
      "       41.0       0.00      0.00      0.00         3\n",
      "       42.0       0.00      0.00      0.00         2\n",
      "       43.0       0.00      0.00      0.00         0\n",
      "       44.0       0.00      0.00      0.00         2\n",
      "       45.0       0.00      0.00      0.00         0\n",
      "       46.0       0.00      0.00      0.00         2\n",
      "       47.0       0.00      0.00      0.00         2\n",
      "       48.0       0.00      0.00      0.00         3\n",
      "       49.0       0.00      0.00      0.00         2\n",
      "       50.0       0.00      0.00      0.00         0\n",
      "       51.0       0.00      0.00      0.00         1\n",
      "       52.0       0.00      0.00      0.00         0\n",
      "       53.0       0.00      0.00      0.00         2\n",
      "       55.0       0.00      0.00      0.00         2\n",
      "       56.0       0.00      0.00      0.00         6\n",
      "       59.0       0.00      0.00      0.00         1\n",
      "       60.0       0.00      0.00      0.00         1\n",
      "       61.0       0.00      0.00      0.00         3\n",
      "       62.0       0.00      0.00      0.00         2\n",
      "       64.0       0.00      0.00      0.00         2\n",
      "       65.0       0.00      0.00      0.00         0\n",
      "       66.0       0.00      0.00      0.00         2\n",
      "       68.0       0.00      0.00      0.00         1\n",
      "       70.0       0.00      0.00      0.00         0\n",
      "       71.0       0.00      0.00      0.00         1\n",
      "       72.0       0.00      0.00      0.00         2\n",
      "       73.0       0.00      0.00      0.00         1\n",
      "       75.0       0.00      0.00      0.00         2\n",
      "       76.0       0.00      0.00      0.00         1\n",
      "       81.0       0.00      0.00      0.00         0\n",
      "       83.0       0.00      0.00      0.00         1\n",
      "       84.0       0.00      0.00      0.00         1\n",
      "       85.0       0.00      0.00      0.00         1\n",
      "       89.0       0.00      0.00      0.00         2\n",
      "       92.0       0.00      0.00      0.00         1\n",
      "      102.0       0.00      0.00      0.00         0\n",
      "      104.0       0.00      0.00      0.00         1\n",
      "      106.0       0.00      0.00      0.00         0\n",
      "      112.0       0.00      0.00      0.00         1\n",
      "      115.0       0.00      0.00      0.00         0\n",
      "      116.0       0.00      0.00      0.00         1\n",
      "      126.0       0.00      0.00      0.00         1\n",
      "      127.0       0.00      0.00      0.00         1\n",
      "      131.0       0.00      0.00      0.00         1\n",
      "      135.0       0.00      0.00      0.00         1\n",
      "      137.0       0.00      0.00      0.00         0\n",
      "      140.0       0.00      0.00      0.00         0\n",
      "      141.0       0.00      0.00      0.00         0\n",
      "      142.0       0.00      0.00      0.00         1\n",
      "      149.0       0.00      0.00      0.00         0\n",
      "      181.0       0.00      0.00      0.00         1\n",
      "      204.0       0.00      0.00      0.00         1\n",
      "      221.0       0.00      0.00      0.00         1\n",
      "      256.0       0.00      0.00      0.00         0\n",
      "      288.0       0.00      0.00      0.00         0\n",
      "      302.0       0.00      0.00      0.00         1\n",
      "      329.0       0.00      0.00      0.00         0\n",
      "      353.0       0.00      0.00      0.00         1\n",
      "      359.0       0.00      0.00      0.00         1\n",
      "      410.0       0.00      0.00      0.00         1\n",
      "\n",
      "avg / total       0.02      0.02      0.02       281\n",
      "\n"
     ]
    },
    {
     "name": "stderr",
     "output_type": "stream",
     "text": [
      "/Users/annas.kiefer/Desktop/dengue_fever/env/lib/python3.5/site-packages/sklearn/metrics/classification.py:1113: UndefinedMetricWarning: Precision and F-score are ill-defined and being set to 0.0 in labels with no predicted samples.\n",
      "  'precision', 'predicted', average, warn_for)\n",
      "/Users/annas.kiefer/Desktop/dengue_fever/env/lib/python3.5/site-packages/sklearn/metrics/classification.py:1115: UndefinedMetricWarning: Recall and F-score are ill-defined and being set to 0.0 in labels with no true samples.\n",
      "  'recall', 'true', average, warn_for)\n"
     ]
    }
   ],
   "source": [
    "print(confusion_matrix(y_test, predictions))\n",
    "print('\\n')\n",
    "print(classification_report(y_test, predictions))"
   ]
  },
  {
   "cell_type": "code",
   "execution_count": 33,
   "metadata": {},
   "outputs": [
    {
     "data": {
      "text/plain": [
       "0.02491103202846975"
      ]
     },
     "execution_count": 33,
     "metadata": {},
     "output_type": "execute_result"
    }
   ],
   "source": [
    "# pretty poor performance\n",
    "dtree.score(X_test, y_test)"
   ]
  },
  {
   "cell_type": "markdown",
   "metadata": {},
   "source": [
    "Now use a random forest model"
   ]
  },
  {
   "cell_type": "code",
   "execution_count": 34,
   "metadata": {
    "collapsed": true
   },
   "outputs": [],
   "source": [
    "from sklearn.ensemble import RandomForestClassifier"
   ]
  },
  {
   "cell_type": "code",
   "execution_count": 35,
   "metadata": {
    "collapsed": true
   },
   "outputs": [],
   "source": [
    "rfc = RandomForestClassifier(n_estimators=200)"
   ]
  },
  {
   "cell_type": "code",
   "execution_count": 36,
   "metadata": {},
   "outputs": [
    {
     "data": {
      "text/plain": [
       "RandomForestClassifier(bootstrap=True, class_weight=None, criterion='gini',\n",
       "            max_depth=None, max_features='auto', max_leaf_nodes=None,\n",
       "            min_impurity_split=1e-07, min_samples_leaf=1,\n",
       "            min_samples_split=2, min_weight_fraction_leaf=0.0,\n",
       "            n_estimators=200, n_jobs=1, oob_score=False, random_state=None,\n",
       "            verbose=0, warm_start=False)"
      ]
     },
     "execution_count": 36,
     "metadata": {},
     "output_type": "execute_result"
    }
   ],
   "source": [
    "rfc.fit(X_train, y_train)"
   ]
  },
  {
   "cell_type": "code",
   "execution_count": 37,
   "metadata": {
    "collapsed": true
   },
   "outputs": [],
   "source": [
    "rfc_predictions = rfc.predict(X_test)"
   ]
  },
  {
   "cell_type": "code",
   "execution_count": 38,
   "metadata": {},
   "outputs": [
    {
     "name": "stdout",
     "output_type": "stream",
     "text": [
      "[[0 0 0 ..., 0 0 0]\n",
      " [0 0 0 ..., 0 0 0]\n",
      " [0 0 0 ..., 0 0 0]\n",
      " ..., \n",
      " [0 0 0 ..., 0 0 0]\n",
      " [0 0 0 ..., 0 0 0]\n",
      " [0 0 0 ..., 0 0 0]]\n",
      "\n",
      "\n",
      "             precision    recall  f1-score   support\n",
      "\n",
      "        0.0       0.00      0.00      0.00         0\n",
      "        1.0       0.00      0.00      0.00         3\n",
      "        2.0       0.00      0.00      0.00         7\n",
      "        3.0       0.16      0.57      0.25         7\n",
      "        4.0       0.15      0.22      0.18         9\n",
      "        5.0       0.00      0.00      0.00         8\n",
      "        6.0       0.07      0.11      0.09         9\n",
      "        7.0       0.12      0.09      0.11        11\n",
      "        8.0       0.00      0.00      0.00         8\n",
      "        9.0       0.08      0.17      0.11         6\n",
      "       10.0       0.06      0.20      0.10         5\n",
      "       11.0       0.00      0.00      0.00         6\n",
      "       12.0       0.00      0.00      0.00         9\n",
      "       13.0       0.00      0.00      0.00         4\n",
      "       14.0       0.07      0.12      0.09         8\n",
      "       15.0       0.00      0.00      0.00         5\n",
      "       16.0       0.00      0.00      0.00        13\n",
      "       17.0       0.05      0.17      0.08         6\n",
      "       18.0       0.00      0.00      0.00         5\n",
      "       19.0       0.00      0.00      0.00         4\n",
      "       20.0       0.00      0.00      0.00         4\n",
      "       21.0       0.00      0.00      0.00         5\n",
      "       22.0       0.00      0.00      0.00         4\n",
      "       23.0       0.00      0.00      0.00         4\n",
      "       24.0       0.00      0.00      0.00         4\n",
      "       25.0       0.00      0.00      0.00         5\n",
      "       26.0       0.00      0.00      0.00         4\n",
      "       27.0       0.00      0.00      0.00         3\n",
      "       28.0       0.14      0.33      0.20         3\n",
      "       29.0       0.00      0.00      0.00         3\n",
      "       30.0       0.00      0.00      0.00         6\n",
      "       31.0       0.00      0.00      0.00         5\n",
      "       32.0       0.00      0.00      0.00         4\n",
      "       33.0       0.00      0.00      0.00         4\n",
      "       34.0       0.00      0.00      0.00         4\n",
      "       35.0       0.00      0.00      0.00         4\n",
      "       36.0       0.00      0.00      0.00         1\n",
      "       37.0       0.00      0.00      0.00         2\n",
      "       38.0       0.00      0.00      0.00         6\n",
      "       39.0       0.00      0.00      0.00         2\n",
      "       40.0       0.00      0.00      0.00         4\n",
      "       41.0       0.00      0.00      0.00         3\n",
      "       42.0       0.00      0.00      0.00         2\n",
      "       43.0       0.00      0.00      0.00         0\n",
      "       44.0       0.00      0.00      0.00         2\n",
      "       46.0       0.00      0.00      0.00         2\n",
      "       47.0       0.00      0.00      0.00         2\n",
      "       48.0       0.00      0.00      0.00         3\n",
      "       49.0       0.00      0.00      0.00         2\n",
      "       51.0       0.00      0.00      0.00         1\n",
      "       53.0       0.00      0.00      0.00         2\n",
      "       54.0       0.00      0.00      0.00         0\n",
      "       55.0       0.00      0.00      0.00         2\n",
      "       56.0       0.00      0.00      0.00         6\n",
      "       57.0       0.00      0.00      0.00         0\n",
      "       59.0       0.00      0.00      0.00         1\n",
      "       60.0       0.00      0.00      0.00         1\n",
      "       61.0       0.00      0.00      0.00         3\n",
      "       62.0       0.00      0.00      0.00         2\n",
      "       64.0       0.00      0.00      0.00         2\n",
      "       65.0       0.00      0.00      0.00         0\n",
      "       66.0       0.00      0.00      0.00         2\n",
      "       67.0       0.00      0.00      0.00         0\n",
      "       68.0       0.00      0.00      0.00         1\n",
      "       71.0       0.00      0.00      0.00         1\n",
      "       72.0       0.00      0.00      0.00         2\n",
      "       73.0       0.00      0.00      0.00         1\n",
      "       75.0       0.00      0.00      0.00         2\n",
      "       76.0       0.00      0.00      0.00         1\n",
      "       78.0       0.00      0.00      0.00         0\n",
      "       81.0       0.00      0.00      0.00         0\n",
      "       82.0       0.00      0.00      0.00         0\n",
      "       83.0       0.00      0.00      0.00         1\n",
      "       84.0       0.00      0.00      0.00         1\n",
      "       85.0       0.00      0.00      0.00         1\n",
      "       89.0       0.00      0.00      0.00         2\n",
      "       92.0       0.00      0.00      0.00         1\n",
      "      104.0       0.00      0.00      0.00         1\n",
      "      106.0       0.00      0.00      0.00         0\n",
      "      112.0       0.00      0.00      0.00         1\n",
      "      116.0       0.00      0.00      0.00         1\n",
      "      126.0       0.00      0.00      0.00         1\n",
      "      127.0       0.00      0.00      0.00         1\n",
      "      131.0       0.00      0.00      0.00         1\n",
      "      135.0       0.00      0.00      0.00         1\n",
      "      142.0       0.00      0.00      0.00         1\n",
      "      149.0       0.00      0.00      0.00         0\n",
      "      181.0       0.00      0.00      0.00         1\n",
      "      204.0       0.00      0.00      0.00         1\n",
      "      221.0       0.00      0.00      0.00         1\n",
      "      256.0       0.00      0.00      0.00         0\n",
      "      288.0       0.00      0.00      0.00         0\n",
      "      302.0       0.00      0.00      0.00         1\n",
      "      353.0       0.00      0.00      0.00         1\n",
      "      359.0       0.00      0.00      0.00         1\n",
      "      410.0       0.00      0.00      0.00         1\n",
      "\n",
      "avg / total       0.02      0.05      0.03       281\n",
      "\n"
     ]
    },
    {
     "name": "stderr",
     "output_type": "stream",
     "text": [
      "/Users/annas.kiefer/Desktop/dengue_fever/env/lib/python3.5/site-packages/sklearn/metrics/classification.py:1113: UndefinedMetricWarning: Precision and F-score are ill-defined and being set to 0.0 in labels with no predicted samples.\n",
      "  'precision', 'predicted', average, warn_for)\n",
      "/Users/annas.kiefer/Desktop/dengue_fever/env/lib/python3.5/site-packages/sklearn/metrics/classification.py:1115: UndefinedMetricWarning: Recall and F-score are ill-defined and being set to 0.0 in labels with no true samples.\n",
      "  'recall', 'true', average, warn_for)\n"
     ]
    }
   ],
   "source": [
    "print(confusion_matrix(y_test, rfc_predictions))\n",
    "print('\\n')\n",
    "print(classification_report(y_test, rfc_predictions))"
   ]
  },
  {
   "cell_type": "code",
   "execution_count": null,
   "metadata": {
    "collapsed": true
   },
   "outputs": [],
   "source": [
    "rfc.score()"
   ]
  },
  {
   "cell_type": "code",
   "execution_count": 41,
   "metadata": {},
   "outputs": [
    {
     "data": {
      "text/plain": [
       "0.046263345195729534"
      ]
     },
     "execution_count": 41,
     "metadata": {},
     "output_type": "execute_result"
    }
   ],
   "source": [
    "# Slightly better performance\n",
    "rfc.score(X_test, y_test)"
   ]
  },
  {
   "cell_type": "code",
   "execution_count": null,
   "metadata": {
    "collapsed": true
   },
   "outputs": [],
   "source": []
  }
 ],
 "metadata": {
  "kernelspec": {
   "display_name": "Python 3",
   "language": "python",
   "name": "python3"
  },
  "language_info": {
   "codemirror_mode": {
    "name": "ipython",
    "version": 3
   },
   "file_extension": ".py",
   "mimetype": "text/x-python",
   "name": "python",
   "nbconvert_exporter": "python",
   "pygments_lexer": "ipython3",
   "version": "3.5.2"
  }
 },
 "nbformat": 4,
 "nbformat_minor": 2
}
